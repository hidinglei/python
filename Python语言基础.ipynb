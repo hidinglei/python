{
 "cells": [
  {
   "cell_type": "markdown",
   "metadata": {},
   "source": [
    "> Python语言基础\n",
    "> - Written by leiding"
   ]
  },
  {
   "cell_type": "markdown",
   "metadata": {
    "datalore": {
     "hide_input_from_viewers": false,
     "hide_output_from_viewers": false,
     "node_id": "zpUIGR0f1rR6JoHChrriXW",
     "type": "MD"
    }
   },
   "source": [
    "# 1.1 基本类型"
   ]
  },
  {
   "cell_type": "code",
   "execution_count": 1,
   "metadata": {
    "datalore": {
     "hide_input_from_viewers": false,
     "hide_output_from_viewers": false,
     "node_id": "T0R4vgEDHwNwBDnZatBGIY",
     "type": "CODE"
    }
   },
   "outputs": [
    {
     "name": "stdout",
     "output_type": "stream",
     "text": [
      "22300745198530623141535718272648361505980416\n",
      "1.5 2.0 1\n",
      "2.2300745198530623e+43\n"
     ]
    }
   ],
   "source": [
    "# 1. 数值类型int和float\n",
    "ival = 16777216\n",
    "print(ival ** 6)  # 任意大小的整数\n",
    "print(3 / 2, 4 / 2, 3 // 2)  # 除运算符与整除运算符\n",
    "print(ival ** 6 / 1)  # 除运算符总是返回浮点数"
   ]
  },
  {
   "cell_type": "code",
   "execution_count": 2,
   "metadata": {
    "datalore": {
     "hide_input_from_viewers": false,
     "hide_output_from_viewers": false,
     "node_id": "pXMZmfCZKwNQFkLkcrc6CC",
     "type": "CODE"
    }
   },
   "outputs": [
    {
     "name": "stdout",
     "output_type": "stream",
     "text": [
      "0\n",
      "2\n",
      "9999 9999 14 14\n",
      "3\n"
     ]
    }
   ],
   "source": [
    "# 2. 基本类型也是对象\n",
    "a = 3\n",
    "print(a.imag)  # 属性，返回虚部\n",
    "print(a.bit_length())  # 方法，返回二进制长度\n",
    "\n",
    "# 延伸1: 标准库里的类型与自定义的类都是对象\n",
    "class X:\n",
    "    def __init__(self, real):\n",
    "        self.real = real\n",
    "        self.imag = 0\n",
    "    \n",
    "    def bit_length(self):\n",
    "        return len(bin(self.real)) - 2  # bin?\n",
    "    \n",
    "x = int(9999)  # 等价于 x = 9999，可以将int看作一个和X一样的类\n",
    "y = X(9999)\n",
    "print(x.real, y.real, x.bit_length(), y.bit_length())\n",
    "\n",
    "\n",
    "# 延伸2: 变量a只是对象的一个标签，即引用\n",
    "print((3).real)"
   ]
  },
  {
   "cell_type": "code",
   "execution_count": 3,
   "metadata": {
    "datalore": {
     "hide_input_from_viewers": false,
     "hide_output_from_viewers": false,
     "node_id": "WaSizF5vbzOoavPQhmBG06",
     "type": "CODE"
    }
   },
   "outputs": [
    {
     "name": "stdout",
     "output_type": "stream",
     "text": [
      "24\n",
      "28\n",
      "32\n",
      "24\n"
     ]
    }
   ],
   "source": [
    "# 延伸：整数对象占用的内存空间\n",
    "import sys\n",
    "print(sys.getsizeof(0))  # 整数0占用24字节\n",
    "print(sys.getsizeof(1))  # 1~2^30-1占用28字节\n",
    "print(sys.getsizeof(1073741824))  # 2^30，每2^30个数增加4个字节\n",
    "print(sys.getsizeof(1073741824.))  # float固定24字节"
   ]
  },
  {
   "cell_type": "code",
   "execution_count": 4,
   "metadata": {
    "datalore": {
     "hide_input_from_viewers": false,
     "hide_output_from_viewers": false,
     "node_id": "u0uST9wh5e10UyUmv0mtTt",
     "type": "CODE"
    }
   },
   "outputs": [
    {
     "name": "stdout",
     "output_type": "stream",
     "text": [
      "58\n",
      "0x64\n",
      "0o144\n",
      "0b1100100\n"
     ]
    }
   ],
   "source": [
    "# 延伸：进制\n",
    "print(0xa + 0o7 + 0Xb + 0xC + 0O3 + 0b10 + 0B1101)  # X, O, B，以及ABCDEF不区分大小写\n",
    "print(hex(100))  # 注意返回字符串，因为0x64和100是同样的对象\n",
    "print(oct(100))\n",
    "print(bin(100))"
   ]
  },
  {
   "cell_type": "code",
   "execution_count": 5,
   "metadata": {
    "datalore": {
     "hide_input_from_viewers": false,
     "hide_output_from_viewers": false,
     "node_id": "QQddu9ehCbMWfodOCJfvRW",
     "type": "CODE"
    }
   },
   "outputs": [
    {
     "name": "stdout",
     "output_type": "stream",
     "text": [
      "one way of writing a string\n",
      "another way 'use single quotes'.\n",
      "third way\n",
      "a longer string that\n",
      "spans multiple lines\n",
      "\n",
      "\\this\\has\\no\\special\\characters\\x48\n"
     ]
    }
   ],
   "source": [
    "# 3. 字符串类型\n",
    "a = 'one way of writing a string'  # 单引号字符串\n",
    "b = \"another way 'use single quotes'.\"  # 双引号字符串\n",
    "c = \"\"\"third way\n",
    "a longer string that\n",
    "spans multiple lines\n",
    "\"\"\"  # 多行字符串\n",
    "d = r'\\this\\has\\no\\special\\characters\\x48'  # r字符串\n",
    "print('\\n'.join([a, b, c, d]))  # join方法将字符串插入到各元素之间，比循环更简洁"
   ]
  },
  {
   "cell_type": "code",
   "execution_count": 6,
   "metadata": {
    "datalore": {
     "hide_input_from_viewers": false,
     "hide_output_from_viewers": false,
     "node_id": "qHOkhRHf31mflxXlTGhhEZ",
     "type": "CODE"
    }
   },
   "outputs": [
    {
     "name": "stdout",
     "output_type": "stream",
     "text": [
      "Hello World\n",
      "+++++\n",
      "HELLO WORLD\n",
      "4\n",
      "3\n",
      "Hexo World\n",
      "11\n"
     ]
    }
   ],
   "source": [
    "# 随堂练习：字符串操作\n",
    "print('Hello' + ' ' + 'World')  # 字符串合并\n",
    "print('+' * 5)  # 字符串重复\n",
    "print('Hello World'.upper())  # 字符串大写，lower小写\n",
    "print('Hello World'.find('o'))  # 字符串查找\n",
    "print('Hello World'.count('l'))  # 字符串计数\n",
    "print('Hello World'.replace('ll', 'x'))  # 字符串替换\n",
    "print(len('Hello World'))  # 字符串长度"
   ]
  },
  {
   "cell_type": "code",
   "execution_count": 7,
   "metadata": {
    "datalore": {
     "hide_input_from_viewers": false,
     "hide_output_from_viewers": false,
     "node_id": "BFPCXVih5aUl1ZFMAoHyq6",
     "type": "CODE"
    }
   },
   "outputs": [
    {
     "name": "stdout",
     "output_type": "stream",
     "text": [
      "H o d\n",
      "ell\n",
      "Hel\n",
      "ld\n"
     ]
    }
   ],
   "source": [
    "# 4. 字符串索引和切片\n",
    "s = 'Hello World'\n",
    "print(s[0], s[4], s[-1])  # 索引\n",
    "print(s[1:4])  # 切片\n",
    "print(s[:3])\n",
    "print('Hello World'[-2:])"
   ]
  },
  {
   "cell_type": "code",
   "execution_count": 8,
   "metadata": {
    "datalore": {
     "hide_input_from_viewers": false,
     "hide_output_from_viewers": false,
     "node_id": "0fZMGQi1CgKwJVIzOldJSy",
     "type": "CODE"
    }
   },
   "outputs": [
    {
     "name": "stdout",
     "output_type": "stream",
     "text": [
      "4.56 Argentine Pesos are worth US$1\n",
      "4.56 Argentine Pesos are worth US$1\n",
      "4.56 Argentine Pesos are worth US$1\n",
      "4.56 Argentine Pesos are worth US$1\n",
      "4.56 Argentine Pesos are worth US$1\n",
      "4.56 Argentine Pesos are worth US$1\n",
      "4.56 Argentine Pesos are worth US$1\n",
      "4.56 Argentine Pesos are worth US$1\n"
     ]
    },
    {
     "data": {
      "text/plain": [
       "'    +1.200'"
      ]
     },
     "execution_count": 8,
     "metadata": {},
     "output_type": "execute_result"
    }
   ],
   "source": [
    "# 5. 字符串格式化\n",
    "\n",
    "# %格式化（printf风格）\n",
    "print('%.2f %s are worth US$%d' % (4.5560, 'Argentine Pesos', 1))\n",
    "\n",
    "# format格式化\n",
    "print('{:.2f} {:s} are worth US${:d}'.format(4.5560, 'Argentine Pesos', 1))\n",
    "\n",
    "a = 4.5560\n",
    "b = 'Argentine Pesos'  # 阿根廷比索\n",
    "c = 1\n",
    "print(f'{a:.2f} {b} are worth US${c:d}')  # f字符串\n",
    "\n",
    "#延伸1：%格式化自定义名称（字典形式）\n",
    "print('%(num1).2f %(name)s are worth US$%(num2)d' % {\n",
    "    'num1': 4.5560, 'num2': 1, 'name': 'Argentine Pesos'})\n",
    "\n",
    "#延伸2：format格式化自定义顺序\n",
    "print('{1:.2f} {0:s} are worth US${2:.0f}'.format('Argentine Pesos', 4.5560, 1))\n",
    "\n",
    "#延伸3：format格式化自定义名称（字典形式）\n",
    "print('{num1:.2f} {name} are worth US${num2:d}'.format(\n",
    "    **{'num1': 4.5560, 'num2': 1, 'name': 'Argentine Pesos'}))\n",
    "print('{num1:.2f} {name} are worth US${num2:d}'.format_map(\n",
    "    {'num1': 4.5560, 'num2': 1, 'name': 'Argentine Pesos'}))\n",
    "\n",
    "#延伸4：format格式化自定义名称（参数形式）\n",
    "print('{num1:.2f} {name} are worth US${num2:d}'.format(\n",
    "    num1=4.5560, num2=1, name='Argentine Pesos'))\n",
    "\n",
    "#延伸5：格式类型操作符\n",
    "f'{1.2:>+10.3f}'  # 右对齐，显示正负号"
   ]
  },
  {
   "cell_type": "code",
   "execution_count": 9,
   "metadata": {
    "datalore": {
     "hide_input_from_viewers": false,
     "hide_output_from_viewers": false,
     "node_id": "3If6NwMjv7jlWMvuRzjSHm",
     "type": "CODE"
    }
   },
   "outputs": [
    {
     "name": "stdout",
     "output_type": "stream",
     "text": [
      "<class 'int'>\n",
      "<class 'type'>\n",
      "<class 'int'>\n",
      "<class 'builtin_function_or_method'>\n",
      "<class 'int'>\n",
      "<class 'type'>\n",
      "<class '__main__.X'>\n"
     ]
    },
    {
     "data": {
      "text/plain": [
       "3"
      ]
     },
     "execution_count": 9,
     "metadata": {},
     "output_type": "execute_result"
    }
   ],
   "source": [
    "# 6. Python对象\n",
    "print(type(3))  # int类型的一个实例\n",
    "print(type(int))  # 类型为type\n",
    "print(type((3).imag))  # 属性也是一个对象\n",
    "print(type((3).bit_length))  # 方法也是一个对象\n",
    "print(type((3).bit_length()))  # 方法返回值的类型\n",
    "\n",
    "# 延伸1：自定义类\n",
    "class X:\n",
    "    ...\n",
    "\n",
    "print(type(X))  # 类的类型为type\n",
    "print(type(X()))  # 类的实例的类型\n",
    "\n",
    "# 延伸2：形式上，可以使用点号无限延伸\n",
    "(3).real.real.real.real.real.real"
   ]
  },
  {
   "cell_type": "code",
   "execution_count": 10,
   "metadata": {
    "datalore": {
     "hide_input_from_viewers": false,
     "hide_output_from_viewers": false,
     "node_id": "7aDUDcsXW1IqKRM3HZ4g2r",
     "type": "CODE"
    }
   },
   "outputs": [
    {
     "name": "stdout",
     "output_type": "stream",
     "text": [
      "<class 'str'>\n",
      "10\n",
      "7\n",
      "abcde\n",
      "abcabcabc\n",
      "3\n",
      "-4442916271367163956\n"
     ]
    }
   ],
   "source": [
    "# 7. 魔术方法与魔术属性\n",
    "print('abc'.__class__)  # __class__属性等价于 type('abc')\n",
    "print(abs.__call__(-10))  # 等价于 abs(-10)\n",
    "\n",
    "# 运算符\n",
    "print((3).__add__(4))  # 等价于 3+4\n",
    "print('ab'.__add__('cde'))  # 等价于 'ab' + 'cde'\n",
    "print('abc'.__mul__(3))  # 等价于 'abc' * 3\n",
    "\n",
    "# 内置函数\n",
    "print('abc'.__len__())  # 等价于 len('abc')\n",
    "# print((3).__len__())  # 数值对象未定义__len__方法，不可求长度\n",
    "\n",
    "print('abc'.__hash__())  # 等价于 hash('abc)\n",
    "#print([1, 2].__hash__())  # 列表对象未定义__hash__方法，不可哈希"
   ]
  },
  {
   "cell_type": "code",
   "execution_count": 11,
   "metadata": {
    "datalore": {
     "hide_input_from_viewers": false,
     "hide_output_from_viewers": false,
     "node_id": "iBrnkB6nQLZvLkOkSlU1Ct",
     "type": "CODE"
    }
   },
   "outputs": [
    {
     "name": "stdout",
     "output_type": "stream",
     "text": [
      "Hello World\n"
     ]
    }
   ],
   "source": [
    "# 8. 内置方法\n",
    "__builtins__.print('Hello World')\n",
    "\n",
    "# 延伸\n",
    "#dir(__builtins__)  # 查看所有的内置方法和属性\n",
    "#vars(__builtins__)  # 查看所有的内置方法、属性及属性的值"
   ]
  },
  {
   "cell_type": "code",
   "execution_count": 12,
   "metadata": {
    "datalore": {
     "hide_input_from_viewers": false,
     "hide_output_from_viewers": false,
     "node_id": "tFxKzq0CGaoFZz24X2OFGK",
     "type": "CODE"
    }
   },
   "outputs": [
    {
     "name": "stdout",
     "output_type": "stream",
     "text": [
      "Your Name: ding\n",
      "Hello Ding!\n"
     ]
    }
   ],
   "source": [
    "# 随堂练习：Python的简洁\n",
    "print('Hello ' + input('Your Name: ').strip().title() + '!')"
   ]
  },
  {
   "cell_type": "code",
   "execution_count": 13,
   "metadata": {
    "datalore": {
     "hide_input_from_viewers": false,
     "hide_output_from_viewers": false,
     "node_id": "kYHMuvarfXZMy5UaWLYbBT",
     "type": "CODE"
    }
   },
   "outputs": [
    {
     "name": "stdout",
     "output_type": "stream",
     "text": [
      "val: 中文, <class 'str'>\n",
      "val1: b'\\xe4\\xb8\\xad\\xe6\\x96\\x87', <class 'bytes'>\n",
      "val2: b'\\xd6\\xd0\\xce\\xc4', <class 'bytes'>\n"
     ]
    },
    {
     "data": {
      "text/plain": [
       "bytes"
      ]
     },
     "execution_count": 13,
     "metadata": {},
     "output_type": "execute_result"
    }
   ],
   "source": [
    "# 9. 字节类型\n",
    "val = '中文'\n",
    "print('val: %s, %s' % (val, type(val)))  # 字符串对象\n",
    "val1 = val.encode('utf-8')\n",
    "print('val1: %s, %s' % (val1, type(val1)))  # 字节对象\n",
    "val2 = val.encode('gbk')\n",
    "print('val2: %s, %s' % (val2, type(val2)))  # 不同编码格式的字节对象\n",
    "\n",
    "type(b'abc')  # b字符串定义了一个字节对象"
   ]
  },
  {
   "cell_type": "code",
   "execution_count": 14,
   "metadata": {
    "datalore": {
     "hide_input_from_viewers": false,
     "hide_output_from_viewers": false,
     "node_id": "eGeELIy9diXcACz1zqYht3",
     "type": "CODE"
    }
   },
   "outputs": [
    {
     "name": "stdout",
     "output_type": "stream",
     "text": [
      "False\n",
      "True\n",
      "False True False True\n",
      "True True\n"
     ]
    },
    {
     "data": {
      "text/plain": [
       "True"
      ]
     },
     "execution_count": 14,
     "metadata": {},
     "output_type": "execute_result"
    }
   ],
   "source": [
    "# 10. 布尔类型\n",
    "print(True and False)  # 布尔对象与逻辑运算\n",
    "print(True or False)\n",
    "print(bool(0), bool(0.1), bool(''), bool(' '))  # 数值和字符串的布尔值\n",
    "print(True == 1, False == 0)  # True等于整数1，False等于整数0，但非同一个对象\n",
    "\n",
    "# 延伸\n",
    "isinstance(True, int)  # 布尔类型是整数类型的子类"
   ]
  },
  {
   "cell_type": "code",
   "execution_count": 15,
   "metadata": {
    "datalore": {
     "hide_input_from_viewers": false,
     "hide_output_from_viewers": false,
     "node_id": "uBPQLWvUgoaIw3OGxMqv7E",
     "type": "CODE"
    }
   },
   "outputs": [
    {
     "name": "stdout",
     "output_type": "stream",
     "text": [
      "9 10\n"
     ]
    }
   ],
   "source": [
    "# 11. None类型\n",
    "def func(p=None):  # None作为未设定的默认值，用来判断是否被赋值\n",
    "    if p is not None:\n",
    "        return 10\n",
    "    else:\n",
    "        return 9\n",
    "    \n",
    "print(func(), func('a'))"
   ]
  },
  {
   "cell_type": "code",
   "execution_count": 16,
   "metadata": {
    "datalore": {
     "hide_input_from_viewers": false,
     "hide_output_from_viewers": false,
     "node_id": "vJHV3mrAa6qiC59h2O27sM",
     "type": "CODE"
    }
   },
   "outputs": [
    {
     "name": "stdout",
     "output_type": "stream",
     "text": [
      "2021-09-20 07:00:00\n",
      "2022-10-01 22:41:33.822857\n",
      "10/01/2022 22:41\n"
     ]
    }
   ],
   "source": [
    "# 12. 日期和时间\n",
    "from datetime import datetime # , date, time\n",
    "print(datetime(2021, 9, 20, 7))  # 将年月日时分秒转换为默认格式\n",
    "print(datetime.now())  # now方法获取当前时间\n",
    "print(datetime.now().strftime('%m/%d/%Y %H:%M'))  # strftime方法用来指定时间格式"
   ]
  },
  {
   "cell_type": "code",
   "execution_count": 17,
   "metadata": {
    "datalore": {
     "hide_input_from_viewers": false,
     "hide_output_from_viewers": false,
     "node_id": "8ZX83FrmOzJ4ZISPIWtfoJ",
     "type": "CODE"
    }
   },
   "outputs": [
    {
     "name": "stdout",
     "output_type": "stream",
     "text": [
      "34\n",
      "7\n",
      "<class 'str'> False\n"
     ]
    },
    {
     "data": {
      "text/plain": [
       "127"
      ]
     },
     "execution_count": 17,
     "metadata": {},
     "output_type": "execute_result"
    }
   ],
   "source": [
    "# 13. 强类型\n",
    "# print('3' + 4)  # 整数类型与字符串类型不能直接相加\n",
    "print('3' + str(4))  # 整数类型强制转换为字符串类型\n",
    "print(int('3') + 4)  # 字符串类型强制转换为整数类型，转换时需满足数字\n",
    "print(type('3'), isinstance('3', int))  # instance用来判断类型\n",
    "\n",
    "# 延伸\n",
    "int('0x7f', 16)  # 进制字符串时需指定进制，否则报错，查看int??"
   ]
  },
  {
   "cell_type": "markdown",
   "metadata": {
    "datalore": {
     "hide_input_from_viewers": false,
     "hide_output_from_viewers": false,
     "node_id": "rma4j8ZHM0lfdYUKoNBLaa",
     "type": "MD"
    }
   },
   "source": [
    "# 1.2 控制流"
   ]
  },
  {
   "cell_type": "code",
   "execution_count": 18,
   "metadata": {
    "datalore": {
     "hide_input_from_viewers": false,
     "hide_output_from_viewers": false,
     "node_id": "Qyuznu0iwP0rpQX7VNTOSc",
     "type": "CODE"
    }
   },
   "outputs": [
    {
     "name": "stdout",
     "output_type": "stream",
     "text": [
      "on the border\n"
     ]
    }
   ],
   "source": [
    "# 14. if条件语句\n",
    "def func(p):\n",
    "    if not isinstance(p, int):  # 判断类型\n",
    "        return 'not int'\n",
    "    if 3 < p < 20:  # 链式比较，等价于 p > 3 and p < 20:\n",
    "        return 'in the range'\n",
    "    elif p in [3, 20]:  # in运算符\n",
    "        return 'on the border'\n",
    "    else:\n",
    "        return 'out the range'\n",
    "print(func(3))"
   ]
  },
  {
   "cell_type": "code",
   "execution_count": 19,
   "metadata": {
    "datalore": {
     "hide_input_from_viewers": false,
     "hide_output_from_viewers": false,
     "node_id": "F7nA2xglKbHUA9zorm417e",
     "type": "CODE"
    }
   },
   "outputs": [
    {
     "name": "stdout",
     "output_type": "stream",
     "text": [
      "P\n",
      "y\n",
      "t\n",
      "h\n",
      "o\n",
      "n\n",
      "Py\n",
      "C+\n",
      "Ja\n"
     ]
    }
   ],
   "source": [
    "# 15. for循环语句：遍历可迭代对象\n",
    "for i in 'Python':\n",
    "    print(i)  # 逐个访问字符串中的元素\n",
    " \n",
    "for i in ['Python', 'C++', 'Java', 'C#']:\n",
    "    print(i[:2])  # 逐个访问列表中的元素并切片\n",
    "    if 'J' in i or i.lower() == 'java':  # 设置break退出条件\n",
    "        break\n",
    "else:  # break将跳过else语句\n",
    "    print('Done')"
   ]
  },
  {
   "cell_type": "code",
   "execution_count": 20,
   "metadata": {
    "datalore": {
     "hide_input_from_viewers": false,
     "hide_output_from_viewers": false,
     "node_id": "pmDiFmDMOiQpDr2oLPhXU8",
     "type": "CODE"
    }
   },
   "outputs": [
    {
     "name": "stdout",
     "output_type": "stream",
     "text": [
      ", 0, 2, 4, 6, 8, 10, 12, 14, 16, 18\n",
      "Python\n",
      "C++\n",
      "Java\n",
      "C#\n"
     ]
    }
   ],
   "source": [
    "# 16. for循环语句：range对象\n",
    "s = ''\n",
    "for i in range(0, 20, 2):\n",
    "    s += ', ' + str(i)  # str(list(range(0, 20, 2)))[1:-1]\n",
    "print(s)\n",
    "\n",
    "lang = ['Python', 'C++', 'Java', 'C#']\n",
    "for i in range(len(lang)):  # 遍历索引\n",
    "    print(lang[i])"
   ]
  },
  {
   "cell_type": "code",
   "execution_count": 21,
   "metadata": {
    "datalore": {
     "hide_input_from_viewers": false,
     "hide_output_from_viewers": false,
     "node_id": "FsbMxrlvbOSX2AEOFPtzax",
     "type": "CODE"
    }
   },
   "outputs": [
    {
     "name": "stdout",
     "output_type": "stream",
     "text": [
      "504\n"
     ]
    }
   ],
   "source": [
    "# 17. while循环语句\n",
    "x = 256\n",
    "total = 0\n",
    "while x > 0:\n",
    "    if total > 500:\n",
    "        break\n",
    "    total += x\n",
    "    x = x // 2\n",
    "print(total)"
   ]
  },
  {
   "cell_type": "code",
   "execution_count": 22,
   "metadata": {
    "datalore": {
     "hide_input_from_viewers": false,
     "hide_output_from_viewers": false,
     "node_id": "bQBucaj1nCnAJE8sAsXtse",
     "type": "CODE"
    }
   },
   "outputs": [
    {
     "name": "stdout",
     "output_type": "stream",
     "text": [
      "world\n"
     ]
    }
   ],
   "source": [
    "# 18. 三元表达式\n",
    "def func(n):\n",
    "    return 'hello' if n > 10 else 'world'\n",
    "print(func(9))"
   ]
  },
  {
   "cell_type": "code",
   "execution_count": 23,
   "metadata": {
    "datalore": {
     "hide_input_from_viewers": false,
     "hide_output_from_viewers": false,
     "node_id": "60UgpYgz9JYE6FdpDXZE1b",
     "type": "CODE"
    }
   },
   "outputs": [
    {
     "name": "stdout",
     "output_type": "stream",
     "text": [
      "[0, 1, 2, 3, 4, 5, 6, 7, 8, 9]\n",
      "[1, 2, 3, 4, 5, 6, 7, 8, 9, 10]\n",
      "[0, 5, 10, 15, 20, 25]\n",
      "[0, 3, 6, 9]\n",
      "[0, -1, -2, -3, -4, -5, -6, -7, -8, -9]\n",
      "[]\n",
      "[]\n"
     ]
    }
   ],
   "source": [
    "# 19. range类型\n",
    "print(list(range(10)))  # 0 .. j-1\n",
    "print(list(range(1, 11)))  # i .. j-1\n",
    "print(list(range(0, 30, 5)))  # i, i+k, .., <j\n",
    "print(list(range(0, 10, 3)))\n",
    "print(list(range(0, -10, -1)))  # step为负数\n",
    "print(list(range(0)))  # 不满足限制条件时为空\n",
    "print(list(range(1, 0)))"
   ]
  },
  {
   "cell_type": "markdown",
   "metadata": {
    "datalore": {
     "hide_input_from_viewers": false,
     "hide_output_from_viewers": false,
     "node_id": "Z1he45OOfiERz8a0Qb2272",
     "type": "MD"
    }
   },
   "source": [
    "# 1.3 容器"
   ]
  },
  {
   "cell_type": "code",
   "execution_count": 24,
   "metadata": {
    "datalore": {
     "hide_input_from_viewers": false,
     "hide_output_from_viewers": false,
     "node_id": "gWzGWgfy52L1hI0eaFd530",
     "type": "CODE"
    }
   },
   "outputs": [
    {
     "name": "stdout",
     "output_type": "stream",
     "text": [
      "He\n"
     ]
    },
    {
     "data": {
      "text/plain": [
       "(('a', 'b', 1),\n",
       " ('a', 'b', 1),\n",
       " (4,),\n",
       " (4,),\n",
       " (),\n",
       " [3, 'a', 4],\n",
       " [],\n",
       " [2, (3, 4, ('Hello',)), ('a', 'b', 1), 'a', ['b']])"
      ]
     },
     "execution_count": 24,
     "metadata": {},
     "output_type": "execute_result"
    }
   ],
   "source": [
    "# 20. 元组与列表\n",
    "t = ('a', 'b', 1)\n",
    "t1 = 'a', 'b', 1  # 省略圆括号\n",
    "t2 = (4,)  # 只有一个元素的元组\n",
    "t3 = 4,  # 省略圆括号\n",
    "t4 = ()  # 空元组\n",
    "\n",
    "l = [3, 'a', 4]\n",
    "l1 = []  # 空列表\n",
    "l2 = [2, (3, 4, ('Hello',)), t1, 'a', ['b']]  # 任意类型的元素\n",
    "print(l2[1][2][0][:2])\n",
    "t, t1, t2, t3, t4, l, l1, l2  # 逗号形成的元组"
   ]
  },
  {
   "cell_type": "code",
   "execution_count": 25,
   "metadata": {
    "datalore": {
     "hide_input_from_viewers": false,
     "hide_output_from_viewers": false,
     "node_id": "QTjdtDpruilAZA5wKqnoET",
     "type": "CODE"
    }
   },
   "outputs": [
    {
     "name": "stdout",
     "output_type": "stream",
     "text": [
      "False True\n",
      "['a', 'b', 'hello', 'x', 'hello', 3, 'c', 4]\n",
      "['a', 'b', 'hello', 'x', 'hello', 3, 'a', 'b', 'hello', 'x', 'hello', 3, 'a', 'b', 'hello', 'x', 'hello', 3]\n",
      "a\n",
      "['a', 'b']\n",
      "6\n",
      "a x\n",
      "2\n",
      "2\n"
     ]
    }
   ],
   "source": [
    "# 21. 序列对象的一般操作\n",
    "t = ['a', 'b', 'hello', 'x', 'hello', 3]\n",
    "#t = ('a', 'b', 'hello', 'x', 'hello', 3)\n",
    "\n",
    "print('c' in t, 4 not in t)  # in运算符\n",
    "print(t + ['c', 4])  # 加法，类型必须相同（强类型），创建新的对象\n",
    "print(3 * t)  # 数乘\n",
    "print(t[0])  # 索引\n",
    "print(t[:2])  # 切片\n",
    "print(len(t))  # 求长度\n",
    "print(min(t[:-1]), max(t[:-1]))  # min和max需要序列中的项支持比较\n",
    "print(t.index('hello'))  # 项第一次出现的位置\n",
    "print(t.count('hello'))"
   ]
  },
  {
   "cell_type": "code",
   "execution_count": 26,
   "metadata": {
    "datalore": {
     "hide_input_from_viewers": false,
     "hide_output_from_viewers": false,
     "node_id": "YBFg4IroZP9TfOjAfa9ivx",
     "type": "CODE"
    }
   },
   "outputs": [
    {
     "name": "stdout",
     "output_type": "stream",
     "text": [
      "(3, 4, 5)\n",
      "(0, 1, 2, 3, 4, 5)\n",
      "(3, 4, 5, 6, 7, 8) (3, 4, 5, 6, 7, 8)\n",
      "(0, 1, 2, 3, 4, 5, 6, 7, 8)\n",
      "(4, 5, 6, 7)\n",
      "()\n",
      "(0, 3, 6)\n",
      "(0, 2, 4, 6, 8)\n",
      "(1, 3, 5, 7)\n",
      "(8, 7, 6, 5, 4, 3, 2, 1, 0)\n",
      "(3, 4, 5)\n"
     ]
    }
   ],
   "source": [
    "# 22. 切片\n",
    "t = (0, 1, 2, 3, 4, 5, 6, 7, 8)\n",
    "\n",
    "# [i:j:k]，包含i，不包含j，切片的类型与原序列相同\n",
    "print(t[3:6])\n",
    "print(t[:6])  # 省略i时，i=0\n",
    "print(t[3:100], t[3:])  # 省略j，或j超出总长度时，j=len(t)\n",
    "print(t[:])  # 所有项的切片\n",
    "print(t[-5:-1])  # 负索引表示从尾部开始\n",
    "print(t[6:3])  # i>=j时切片为空\n",
    "print(t[:-2:3])  # 指定k\n",
    "\n",
    "# 特殊切片\n",
    "print(t[::2])  # 奇数位\n",
    "print(t[1::2])  # 偶数位\n",
    "print(t[::-1])  # 逆序\n",
    "\n",
    "# 延伸：slice对象\n",
    "p = slice(3, 6, 1)  # range对象不作为索引\n",
    "print(t[p])"
   ]
  },
  {
   "cell_type": "code",
   "execution_count": 27,
   "metadata": {
    "datalore": {
     "hide_input_from_viewers": false,
     "hide_output_from_viewers": false,
     "node_id": "4D5bg0WWiD8HojZCmNGUYd",
     "type": "CODE"
    }
   },
   "outputs": [
    {
     "name": "stdout",
     "output_type": "stream",
     "text": [
      "[1, 2, ('a', 'b', 'c'), 'hello', ['w', 'o', 'r', 'l', 'd']]\n",
      "[1, 2, 345, 'hello', ['w', 'o', 'r', 'l', 'd']]\n",
      "[1, 2, 345, 'hello', [0, 'l', 'd']]\n",
      "['x', 2, 'y', 'hello', 'z']\n",
      "['hello', 'z']\n",
      "['hello', 'z', 1]\n",
      "['hello', 'z', 1, 3, 'x', 'yz']\n",
      "['hello', 'z', 1, 3, 'x', 'yz', 10, 11, 12, 'j', 'q', 'r']\n",
      "['hello', 'z', 1, 3, 'x', 'yz', 10, 11, 12, 'j', 'q', 'r', 'hello', 'z', 1, 3, 'x', 'yz', 10, 11, 12, 'j', 'q', 'r']\n",
      "[99, 'hello', 'z', 1, 3, 'x', 'yz', 10, 11, 12, 'j', 'q', 'r', 'hello', 'z', 1, 3, 'x', 'yz', 10, 11, 12, 'j', 'q', 'r']\n",
      "s=hello\n",
      "[99, 'z', 1, 3, 'x', 'yz', 10, 11, 12, 'j', 'q', 'r', 'hello', 'z', 1, 3, 'x', 'yz', 10, 11, 12, 'j', 'q', 'r']\n",
      "[99, 'z', 3, 'x', 'yz', 10, 11, 12, 'j', 'q', 'r', 'hello', 'z', 1, 3, 'x', 'yz', 10, 11, 12, 'j', 'q', 'r']\n",
      "['r', 'q', 'j', 12, 11, 10, 'yz', 'x', 3, 1, 'z', 'hello', 'r', 'q', 'j', 12, 11, 10, 'yz', 'x', 3, 'z', 99]\n",
      "[]\n"
     ]
    }
   ],
   "source": [
    "# 23. 可变序列的一般操作\n",
    "l = [1, 2, ('a', 'b', 'c'), 'hello', list('world')]\n",
    "print(l)\n",
    "\n",
    "l[2] = 345  # 按索引改变值\n",
    "print(l)\n",
    "\n",
    "l[-1][:3] = 0,  # 按连续切片改变值，新值必须为容器对象（如不能为int）\n",
    "                # 新值类型可以与切片类型不同\n",
    "print(l)\n",
    "\n",
    "l[::2] = 'xyz'  # 按不连续切片改变值，赋值的长度必须一致（如不能为'xy'）\n",
    "print(l)\n",
    "\n",
    "del l[:3]  # 按索引/切片删除值，切片可以不连续\n",
    "print(l)\n",
    "\n",
    "l.append(1)  # 在序列末尾添加新的项，等价于 l[len(l):len(l)] = 1,\n",
    "             # （不能时l[len(l)]索引不存在）\n",
    "print(l)\n",
    "\n",
    "l.extend((3, 'x', 'yz'))  # 在序列末尾扩展新的序列，可以与原序列类型不同\n",
    "print(l)\n",
    "\n",
    "l += range(10, 13)  # 增强赋值，可以与原序列类型不同\n",
    "l += 'jqr'\n",
    "print(l)\n",
    "\n",
    "l *= 2  # 数乘运算\n",
    "print(l)\n",
    "\n",
    "l.insert(0, 99)  # 在指定索引位置插入值，等价于 l[0:0] = 99, （这种写法较怪）\n",
    "print(l)\n",
    "\n",
    "s = l.pop(1)  # 删除并返回指定索引项\n",
    "print('s=' + s)  # 这个方法有返回值\n",
    "print(l)\n",
    "\n",
    "l.remove(1)  # 删除第一个值为1的项（按值删除），若删除所有值为1的项，可用推导式（无对应方法）\n",
    "print(l)\n",
    "\n",
    "l.reverse()  # 逆序，l[::-1]将得到一个新的对象，reversed(l)将得到一个reversed对象\n",
    "print(l)\n",
    "\n",
    "l.clear()  # 清空\n",
    "print(l)"
   ]
  },
  {
   "cell_type": "code",
   "execution_count": 28,
   "metadata": {
    "datalore": {
     "hide_input_from_viewers": false,
     "hide_output_from_viewers": false,
     "node_id": "SI2LHmuxnG60EuFURb5bkl",
     "type": "CODE"
    }
   },
   "outputs": [
    {
     "name": "stdout",
     "output_type": "stream",
     "text": [
      "abcde\n",
      "abc123\n",
      "abc123abc123\n"
     ]
    }
   ],
   "source": [
    "# 延伸，不可变序列也支持 +、+=、和 *= 运算符\n",
    "s = 'abc'\n",
    "print(s + 'de')  # 强类型，要求类型相同\n",
    "\n",
    "s += '123'  # 要求类型相同\n",
    "print(s)\n",
    "\n",
    "s *= 2\n",
    "print(s)"
   ]
  },
  {
   "cell_type": "code",
   "execution_count": 29,
   "metadata": {
    "datalore": {
     "hide_input_from_viewers": false,
     "hide_output_from_viewers": false,
     "node_id": "mAZy7hYP9gYWRz9vYaSmZD",
     "type": "CODE"
    }
   },
   "outputs": [
    {
     "name": "stdout",
     "output_type": "stream",
     "text": [
      "None\n"
     ]
    }
   ],
   "source": [
    "# 延伸：注意的地方\n",
    "print([1, 2, 3].append(4))  # 无返回值\n",
    "\n",
    "# [1, 2, 3] += [4]  # 不能对字面值赋值，又如 3 = 'Hello'"
   ]
  },
  {
   "cell_type": "code",
   "execution_count": 30,
   "metadata": {
    "datalore": {
     "hide_input_from_viewers": false,
     "hide_output_from_viewers": false,
     "node_id": "UIVEDmdBYnNZDq8iMcRmSd",
     "type": "CODE"
    }
   },
   "outputs": [
    {
     "name": "stdout",
     "output_type": "stream",
     "text": [
      "[(1,), [1, 2], 'abc']\n"
     ]
    }
   ],
   "source": [
    "# 24. 列表的sort操作\n",
    "a = ['abc', [1, 2], (1,)]\n",
    "a.sort(key=len)  # sort方法没有返回值,永久修改，使用key参数指定排序依据\n",
    "print(a)\n",
    "# print(sorted(a, key=len))  # 内置函数sorted返回一个列表"
   ]
  },
  {
   "cell_type": "code",
   "execution_count": 31,
   "metadata": {
    "datalore": {
     "hide_input_from_viewers": false,
     "hide_output_from_viewers": false,
     "node_id": "dLydBd6dAvrIsSlJtimPvT",
     "type": "CODE"
    }
   },
   "outputs": [
    {
     "name": "stdout",
     "output_type": "stream",
     "text": [
      "c\n",
      "{3: 'a', 2: 'b', 1: 'c', 'a': 3, (1, 2): 4}\n",
      "{3: 'a', 1: 'c', 'a': 3, (1, 2): 4}\n",
      "{3: 'abc', 1: 'c', 'a': 3, (1, 2): 4, '3': 'ghi'}\n",
      "dict_keys([3, 1, 'a', (1, 2), '3']) dict_values(['abc', 'c', 3, 4, 'ghi'])\n",
      "3 abc\n",
      "1 c\n",
      "a 3\n",
      "(1, 2) 4\n",
      "3 ghi\n",
      "{0: 4, 1: 3, 2: 2, 3: 1, 4: 0}\n"
     ]
    }
   ],
   "source": [
    "# 25. 字典\n",
    "d = {3: 'a', 2: 'b', 1: 'c', 'a': 'xyz'}  # 花括号包围的键值对，重复的键将自动覆盖\n",
    "print(d[1])  # 仅支持按键索引，不支持按位置索引\n",
    "d[(1, 2)] = 4  # 新增一项，使用元组作为键\n",
    "d['a'] = 3  # 更新项\n",
    "print(d)\n",
    "\n",
    "d.pop(2)  # 使用pop方法或del关键字删除项\n",
    "print(d)\n",
    "\n",
    "d.update({3: 'abc',  '3': 'ghi'})  # update方法可添加或更新项，也可合并子弹\n",
    "print(d)\n",
    "\n",
    "print(d.keys(), d.values())  # 字典视图对象\n",
    "\n",
    "for i in d:  # 遍历字典的键\n",
    "    print(i, d[i])\n",
    "\n",
    "# dict函数将二元数组（如zip对象）转换为字典\n",
    "print(dict(zip(range(5), reversed(range(5)))))"
   ]
  },
  {
   "cell_type": "code",
   "execution_count": 32,
   "metadata": {
    "datalore": {
     "hide_input_from_viewers": false,
     "hide_output_from_viewers": false,
     "node_id": "g3amPvnorsUeL1869QYbqf",
     "type": "CODE"
    }
   },
   "outputs": [
    {
     "name": "stdout",
     "output_type": "stream",
     "text": [
      "None\n",
      "9 {3: 'a', 2: 'b', 1: 'c'}\n",
      "10 {3: 'a', 2: 'b', 1: 'c', 5: 10}\n"
     ]
    }
   ],
   "source": [
    "# 26. 字典默认值\n",
    "d = {3: 'a', 2: 'b', 1: 'c'}\n",
    "# print(d[4])  # []索引必须为字典的键\n",
    "print(d.get(4))  # 若键不存在时，get方法返回默认值（未指定时为None）\n",
    "print(d.get(4, 9), d)\n",
    "print(d.setdefault(5, 10), d)  # setdefault方法除返回默认值外，还将不存在的键添加到字典中"
   ]
  },
  {
   "cell_type": "code",
   "execution_count": 33,
   "metadata": {
    "datalore": {
     "hide_input_from_viewers": false,
     "hide_output_from_viewers": false,
     "node_id": "QAkPvHs06aQDSPH5T3uziy",
     "type": "CODE"
    }
   },
   "outputs": [
    {
     "name": "stdout",
     "output_type": "stream",
     "text": [
      "{1, 2, 3, 4, 5, 6, 7, 8} {1, 2, 3, 4, 5, 6, 7, 8}\n",
      "{3, 4, 5} {3, 4, 5}\n",
      "{1, 2} {1, 2}\n",
      "{1, 2, 6, 7, 8} {1, 2, 6, 7, 8}\n"
     ]
    }
   ],
   "source": [
    "# 27. 集合\n",
    "a = {1, 2, 3, 4, 5}  # 由花括号给出的无序、可变对象，且元素唯一\n",
    "b = {3, 4, 5, 6, 7, 8}\n",
    "print(a.union(b), a | b)  # 并集\n",
    "print(a.intersection(b), a & b)  # 交集\n",
    "print(a.difference(b), a - b)  # 差集\n",
    "print(a.symmetric_difference(b), a ^ b)  # 对称差集（交集的补集）"
   ]
  },
  {
   "cell_type": "code",
   "execution_count": 34,
   "metadata": {
    "datalore": {
     "hide_input_from_viewers": false,
     "hide_output_from_viewers": false,
     "node_id": "mCYTrx5ofsKubFTpC18V1h",
     "type": "CODE"
    }
   },
   "outputs": [
    {
     "name": "stdout",
     "output_type": "stream",
     "text": [
      "a\n",
      "2\n",
      "[3, 4]\n",
      "2 a\n"
     ]
    }
   ],
   "source": [
    "# 28. 拆包\n",
    "a, b, c = 'a', 2, [3, 4]  # 元组拆包\n",
    "# a, b, c = '123'  # 字符串拆包\n",
    "# a, b, c = ['a', 2, [3, 4]]  # 列表拆包\n",
    "# a, b, c = range(3)  # range对象拆包\n",
    "# a, b, c = {'a', 'b', 'c'}  # 集合拆包\n",
    "# a, b, c = {'x': 'a', 'y': 2, 9: [3, 4]}  # 字典拆包（键），values值拆包\n",
    "# a, b, c = {'x': 'a', 'y': 2, 9: [3, 4]}.items()  # 字典键值对拆包为元组\n",
    "# [a, b, c] = 1, 2, 3  # 拆包给变量列表\n",
    "print(a)\n",
    "print(b)\n",
    "print(c)  # 变量数量必须与拆包对象元素个数相等\n",
    "\n",
    "a, b = b, a  # 拆包用来交换变量\n",
    "print(a, b)"
   ]
  },
  {
   "cell_type": "code",
   "execution_count": 35,
   "metadata": {
    "datalore": {
     "hide_input_from_viewers": false,
     "hide_output_from_viewers": false,
     "node_id": "sahJIOhpXjdr5illUy4uey",
     "type": "CODE"
    }
   },
   "outputs": [
    {
     "name": "stdout",
     "output_type": "stream",
     "text": [
      "[1, 2]\n",
      "1 [2, 3]\n",
      "[1, 2] 3\n",
      "1 [2, 3] 4\n",
      "[1]\n",
      "[] 1 2 3\n",
      "0 1\n"
     ]
    }
   ],
   "source": [
    "# 29. 打包\n",
    "*a, = 1, 2\n",
    "print(a)\n",
    "\n",
    "a, *b = 1, 2, 3  # 尾部打包\n",
    "print(a, b)\n",
    "\n",
    "*a, b = 1, 2, 3  # 头部打包\n",
    "print(a, b)\n",
    "\n",
    "a, *b, c = 1, 2, 3, 4  # 中间打包，一个赋值语句中只能有一处打包\n",
    "print(a, b, c)\n",
    "\n",
    "*a, b, c = 1, 2, 3  # 打包为单元素列表\n",
    "print(a)\n",
    "\n",
    "*a, b, c, d = 1, 2, 3  # 打包为空列表\n",
    "print(a, b, c, d)\n",
    "\n",
    "# *a, b, c, d, e = 1, 2, 3  # 拆包错误\n",
    "\n",
    "a, b, *_ = range(5)  # 将不需要的值打包舍弃\n",
    "print(a, b)"
   ]
  },
  {
   "cell_type": "code",
   "execution_count": 36,
   "metadata": {
    "datalore": {
     "hide_input_from_viewers": false,
     "hide_output_from_viewers": false,
     "node_id": "JKnSJUyP9qv6KiqBB27kNP",
     "type": "CODE"
    }
   },
   "outputs": [
    {
     "name": "stdout",
     "output_type": "stream",
     "text": [
      "[0, 1, 2, 'x', 'y', 3, (4, 5), 'z', 6, 7, '8', '9', '0', 11, 12]\n"
     ]
    },
    {
     "data": {
      "text/plain": [
       "{'one': 1, 'two': 'B', 'three': 3, 'a': 'A', 'c': 'C'}"
      ]
     },
     "execution_count": 36,
     "metadata": {},
     "output_type": "execute_result"
    }
   ],
   "source": [
    "# 30. 打散\n",
    "a = [1, 2, 'x']\n",
    "b = ['y', 3, (4, 5)]\n",
    "c = {6, 7, 'z'}\n",
    "d = '890'\n",
    "print([0, *a, *b, *c, *d, *range(11, 13)])  # 相当于[0] + list(a) + ...\n",
    "\n",
    "numbers = {\"one\": 1, \"two\": 2, \"three\": 3}\n",
    "letters = {\"a\": \"A\", \"two\": \"B\", \"c\": \"C\"}\n",
    "combination = {**numbers, **letters}  # 使用 ** 运算符将字典打散后再合并\n",
    "combination  # 重复的键（'two'）将覆盖"
   ]
  },
  {
   "cell_type": "code",
   "execution_count": 37,
   "metadata": {
    "datalore": {
     "hide_input_from_viewers": false,
     "hide_output_from_viewers": false,
     "node_id": "zp1WyxJGUiGsukxjmE2s84",
     "type": "CODE"
    }
   },
   "outputs": [
    {
     "name": "stdout",
     "output_type": "stream",
     "text": [
      "Income for Pencil is: 330.0\n",
      "Income for Notebook is: 715.0\n",
      "Income for Eraser is: 750.0\n",
      "1 2 2\n",
      "2 3 3\n"
     ]
    }
   ],
   "source": [
    "# 31. for循环中的拆包\n",
    "sales = [(\"Pencil\", 0.22, 1500), (\"Notebook\", 1.30, 550), (\"Eraser\", 0.75, 1000)]\n",
    "for product, price, sold_units in sales:  # 对格式规整的可迭代对象拆包\n",
    "    print(f\"Income for {product} is: {price * sold_units}\")\n",
    "    \n",
    "    \n",
    "data = [((1, 2), 2), ((2, 3), 3)]\n",
    "for (a, b), c in data:  # 对嵌套的可迭代对象拆包，保持相同的结构\n",
    "    print(a, b, c)"
   ]
  },
  {
   "cell_type": "code",
   "execution_count": 38,
   "metadata": {
    "datalore": {
     "hide_input_from_viewers": false,
     "hide_output_from_viewers": false,
     "node_id": "zgwm34bYmChjTmOgyrmFjR",
     "type": "CODE"
    }
   },
   "outputs": [
    {
     "name": "stdout",
     "output_type": "stream",
     "text": [
      "['BAT', 'CAR', 'DOVE', 'PYTHON']\n",
      "{'a': 0, 'as': 1, 'bat': 2, 'car': 3, 'dove': 4, 'python': 5}\n",
      "{1, 2, 3, 4, 6}\n",
      "[1, 2, 3, 3, 4, 6]\n"
     ]
    }
   ],
   "source": [
    "# 32. 推导式\n",
    "strings = ['a', 'as', 'bat', 'car', 'dove', 'python']\n",
    "print([x.upper() for x in strings if len(x) > 2])  # 列表推导式，过滤长度<=2的元素并大写\n",
    "print({val: index for index, val in enumerate(strings)})  # 字典推导式\n",
    "print({len(x) for x in strings})  # 集合推导式\n",
    "print(list(map(len, strings)))  # map函数将指定的方法应用到可迭代对象的每个元素上"
   ]
  },
  {
   "cell_type": "code",
   "execution_count": 39,
   "metadata": {
    "datalore": {
     "hide_input_from_viewers": false,
     "hide_output_from_viewers": false,
     "node_id": "0DbsRPVUEvBpPAbHMeqG60",
     "type": "CODE"
    }
   },
   "outputs": [
    {
     "name": "stdout",
     "output_type": "stream",
     "text": [
      "['Steven']\n"
     ]
    }
   ],
   "source": [
    "# 33. 推导式2: 嵌套推导式\n",
    "strings = [['John', 'Emily', 'Michael', 'Mary', 'Steven'], \n",
    "           ['Maria', 'Juan', 'Javier'], ['Natalia', 'Pilar']]\n",
    "\n",
    "# 双层循环：group遍历strings，name遍历group，所得列表的项为name\n",
    "print([name for group in strings for name in group if name.count('e') >= 2])"
   ]
  },
  {
   "cell_type": "markdown",
   "metadata": {
    "datalore": {
     "hide_input_from_viewers": false,
     "hide_output_from_viewers": false,
     "node_id": "M8FRyOXcQbNj6JNNEq0Uog",
     "type": "MD"
    }
   },
   "source": [
    "# 1.4 一切皆对象"
   ]
  },
  {
   "cell_type": "code",
   "execution_count": 40,
   "metadata": {
    "datalore": {
     "hide_input_from_viewers": false,
     "hide_output_from_viewers": false,
     "node_id": "SLuy9h8YYyKKbyjVS0vSaB",
     "type": "CODE"
    }
   },
   "outputs": [
    {
     "name": "stdout",
     "output_type": "stream",
     "text": [
      "94675002175008 94675002175008\n",
      "94675002175040 94675002175008\n"
     ]
    }
   ],
   "source": [
    "# 34. 对象及其引用: 赋值即引用\n",
    "a = 3  # 变量a是数值对象3的引用\n",
    "b = a  # 变量b也是数值对象3的引用\n",
    "print(id(a), id(b))\n",
    "a = 4  # a是对象4的引用\n",
    "print(id(a), id(b))"
   ]
  },
  {
   "cell_type": "code",
   "execution_count": 41,
   "metadata": {
    "datalore": {
     "hide_input_from_viewers": false,
     "hide_output_from_viewers": false,
     "node_id": "x5upGTDMssyb8ABIxfDdRt",
     "type": "CODE"
    }
   },
   "outputs": [
    {
     "name": "stdout",
     "output_type": "stream",
     "text": [
      "[1, 2, 3, 4] [1, 2, 3, 4] 140563276982720 140563276982720\n"
     ]
    }
   ],
   "source": [
    "# 35. 对象及其引用2\n",
    "a = [1, 2, 3]\n",
    "b = a  # a,b是列表对象的引用\n",
    "a.append(4)  # 列表对象发生改变\n",
    "print(a, b, id(a), id(b))"
   ]
  },
  {
   "cell_type": "code",
   "execution_count": 42,
   "metadata": {
    "datalore": {
     "hide_input_from_viewers": false,
     "hide_output_from_viewers": false,
     "node_id": "iCUdbPLdnVcpZMQklOm51r",
     "type": "CODE"
    }
   },
   "outputs": [
    {
     "name": "stdout",
     "output_type": "stream",
     "text": [
      "140563276654528 140563276612224\n",
      "True False\n"
     ]
    }
   ],
   "source": [
    "# 36. 对象及其引用3\n",
    "c = [1, 2, 3]\n",
    "d = [1, 2, 3]  # 两个不同的对象\n",
    "print(id(c), id(d))\n",
    "print(c == d, c is d)"
   ]
  },
  {
   "cell_type": "code",
   "execution_count": 43,
   "metadata": {
    "datalore": {
     "hide_input_from_viewers": false,
     "hide_output_from_viewers": false,
     "node_id": "GmyVieTrz38KZuvrdWn6dt",
     "type": "CODE"
    }
   },
   "outputs": [
    {
     "name": "stdout",
     "output_type": "stream",
     "text": [
      "140563277110720\n",
      "140563277089792\n"
     ]
    }
   ],
   "source": [
    "# 37. 对象及其引用4\n",
    "c = [1, 2, 3]\n",
    "print(id(c))\n",
    "c = [1, 2, 3]  # 重新赋值\n",
    "print(id(c))"
   ]
  },
  {
   "cell_type": "code",
   "execution_count": 44,
   "metadata": {
    "datalore": {
     "hide_input_from_viewers": false,
     "hide_output_from_viewers": false,
     "node_id": "HvLoH1S8HcRad9j7T5Q6vf",
     "type": "CODE"
    }
   },
   "outputs": [
    {
     "name": "stdout",
     "output_type": "stream",
     "text": [
      "94675002183104 94675002183104 True\n"
     ]
    }
   ],
   "source": [
    "# 38. 特殊的small_ints对象，[-5,256]间的整数\n",
    "a = 256\n",
    "b = 256\n",
    "print(id(a), id(b), a is b)  # 试试257"
   ]
  },
  {
   "cell_type": "code",
   "execution_count": 45,
   "metadata": {
    "datalore": {
     "hide_input_from_viewers": false,
     "hide_output_from_viewers": false,
     "node_id": "S42JvJluQmBq9UHUmdWzNu",
     "type": "CODE"
    }
   },
   "outputs": [
    {
     "name": "stdout",
     "output_type": "stream",
     "text": [
      "[['x', 'abc'], ['x', 'abc'], ['x', 'abc']]\n"
     ]
    }
   ],
   "source": [
    "# 39. 序列的数乘运算也是一种引用\n",
    "t = [['x']]\n",
    "t *= 3\n",
    "t[0].append('abc')\n",
    "print(t)"
   ]
  },
  {
   "cell_type": "code",
   "execution_count": 46,
   "metadata": {
    "datalore": {
     "hide_input_from_viewers": false,
     "hide_output_from_viewers": false,
     "node_id": "gvL4pTWE9sInleppeLHjc1",
     "type": "CODE"
    }
   },
   "outputs": [
    {
     "name": "stdout",
     "output_type": "stream",
     "text": [
      "140563276620416 140563276620416 140563277122944 140563276609792\n",
      "[1, 2, [3, 4], 5]\n",
      "[1, 2, [3, 4], 5]\n",
      "[1, 2, [3, 4]]\n",
      "[1, 2, [3, 4]]\n",
      "[1, 2, [3, 4, 9], 5]\n",
      "[1, 2, [3, 4, 9], 5]\n",
      "[1, 2, [3, 4, 9]]\n",
      "[1, 2, [3, 4]]\n"
     ]
    }
   ],
   "source": [
    "# 40. 浅拷贝与深拷贝\n",
    "import copy\n",
    "a = [1, 2, [3, 4]]\n",
    "b = a  # 引用\n",
    "c = a[:]  # 浅拷贝\n",
    "d = copy.deepcopy(a)  # 深拷贝\n",
    "print(id(a), id(b), id(c), id(d))  # 引用为同一个对象，浅拷贝和深拷贝得到新对象\n",
    "\n",
    "a.append(5)  # 改变原对象\n",
    "print(a)\n",
    "print(b)  # 引用发生改变\n",
    "print(c)  # 浅拷贝和深拷贝不发生改变\n",
    "print(d)\n",
    "\n",
    "a[2].append(9)  # 改变原对象的嵌套子对象\n",
    "print(a)\n",
    "print(b)\n",
    "print(c)  # 浅拷贝嵌套子对象发生改变\n",
    "print(d)  # 深拷贝嵌套子对象不发生改变"
   ]
  },
  {
   "cell_type": "code",
   "execution_count": 47,
   "metadata": {
    "datalore": {
     "hide_input_from_viewers": false,
     "hide_output_from_viewers": false,
     "node_id": "3A77LtjIaesgGqvvGvcByO",
     "type": "CODE"
    }
   },
   "outputs": [
    {
     "name": "stdout",
     "output_type": "stream",
     "text": [
      "[1, 2, 3] 140563277088192\n",
      "[1, 2, 3, 4] 140563276655232\n",
      "[1, 2, 3, 4, 5] 140563276655232\n",
      "[1, 2, 3, 4, 5, 6] 140563276655232\n",
      "[1, 2, 3, 4, 5, 6, 7] 140563276655232\n"
     ]
    }
   ],
   "source": [
    "# 41. 可变对象的增强赋值\n",
    "%xdel a\n",
    "a = [1, 2, 3]\n",
    "print(a, id(a))\n",
    "\n",
    "a = a + [4]  # 列表加法\n",
    "print(a, id(a))  # 产生新的对象\n",
    "\n",
    "a += [5]  # 增强赋值\n",
    "print(a, id(a))  # 原对象\n",
    "\n",
    "a.append(6)\n",
    "print(a, id(a))  # 原对象\n",
    "\n",
    "a.extend([7])\n",
    "print(a, id(a))  # 原对象"
   ]
  },
  {
   "cell_type": "code",
   "execution_count": 48,
   "metadata": {
    "datalore": {
     "hide_input_from_viewers": false,
     "hide_output_from_viewers": false,
     "node_id": "cxCayLSAcwtyZf7TZ0alh2",
     "type": "CODE"
    }
   },
   "outputs": [
    {
     "name": "stdout",
     "output_type": "stream",
     "text": [
      "(1,) 140563276905584\n",
      "(1, 2) 140563276645056\n",
      "(1, 2, 3) 140563314997760\n"
     ]
    }
   ],
   "source": [
    "# 42. 不可变对象的赋值加法\n",
    "b = 1,\n",
    "print(b, id(b))\n",
    "\n",
    "b += 2,\n",
    "print(b, id(b))  # 赋值加法产生新的对象\n",
    "\n",
    "b = b + (3,)\n",
    "print(b, id(b))  # 加法产生新的对象"
   ]
  },
  {
   "cell_type": "code",
   "execution_count": 49,
   "metadata": {
    "datalore": {
     "hide_input_from_viewers": false,
     "hide_output_from_viewers": false,
     "node_id": "WhAmwJMyT4L3iBxMeM7DO6",
     "type": "CODE"
    }
   },
   "outputs": [
    {
     "name": "stdout",
     "output_type": "stream",
     "text": [
      "3 3\n",
      "24 letters is too long\n"
     ]
    }
   ],
   "source": [
    "# 43. 海象运算符\n",
    "a = (b := 3)  # 实现了连续赋值\n",
    "print(a, b)\n",
    "\n",
    "astring = 'there is so many letters'\n",
    "if (n := len(astring)) > 10:  # 少写一行\n",
    "    print(f'{n} letters is too long')"
   ]
  },
  {
   "cell_type": "markdown",
   "metadata": {
    "datalore": {
     "hide_input_from_viewers": false,
     "hide_output_from_viewers": false,
     "node_id": "8jn9l1HOl7YX4newAvwCGs",
     "type": "MD"
    }
   },
   "source": [
    "# 1.5 函数"
   ]
  },
  {
   "cell_type": "code",
   "execution_count": 50,
   "metadata": {
    "datalore": {
     "hide_input_from_viewers": false,
     "hide_output_from_viewers": false,
     "node_id": "KTMj90IaK9tdukU4AxtMUP",
     "type": "CODE"
    }
   },
   "outputs": [
    {
     "name": "stdout",
     "output_type": "stream",
     "text": [
      "Hi Ding!\n"
     ]
    }
   ],
   "source": [
    "# 44. 函数\n",
    "def greet(someone):  # 函数名，参数（可选）\n",
    "\n",
    "    \"\"\"\n",
    "    文档字符串\n",
    "    This will print hello to someone\n",
    "    by lding\n",
    "    \"\"\"\n",
    "\n",
    "    print('Hi ' + someone + '!')\n",
    "\n",
    "greet(\"Ding\")  # 函数调用"
   ]
  },
  {
   "cell_type": "code",
   "execution_count": 51,
   "metadata": {
    "datalore": {
     "hide_input_from_viewers": false,
     "hide_output_from_viewers": false,
     "node_id": "kkbcgePlrK1d0Wq5Culcvb",
     "type": "CODE"
    }
   },
   "outputs": [
    {
     "name": "stdout",
     "output_type": "stream",
     "text": [
      "<class 'function'>\n",
      "<class 'function'>\n",
      "Hi Ding!\n"
     ]
    }
   ],
   "source": [
    "# 45. 函数也是对象\n",
    "print(type(greet))  # 函数类型\n",
    "\n",
    "sayhi = greet  # 将函数对象赋值给一个变量\n",
    "print(type(sayhi))\n",
    "sayhi(\"Ding\")"
   ]
  },
  {
   "cell_type": "code",
   "execution_count": 52,
   "metadata": {
    "datalore": {
     "hide_input_from_viewers": false,
     "hide_output_from_viewers": false,
     "node_id": "oB01e7DtiYuax07DmqaBNT",
     "type": "CODE"
    }
   },
   "outputs": [
    {
     "name": "stdout",
     "output_type": "stream",
     "text": [
      "11 abc 33\n"
     ]
    }
   ],
   "source": [
    "# 46. 函数具有多个返回值\n",
    "def func():\n",
    "    h = 11\n",
    "    l = 100\n",
    "    w = 'abc'\n",
    "    a = [1, 2]\n",
    "    n = 33\n",
    "    return h, l, w, a, n\n",
    "\n",
    "a, _, c, _, d = func()  # 拆包\n",
    "# a, *_, c, d = func()\n",
    "print(a, c, d)"
   ]
  },
  {
   "cell_type": "code",
   "execution_count": 53,
   "metadata": {
    "datalore": {
     "hide_input_from_viewers": false,
     "hide_output_from_viewers": false,
     "node_id": "AUDCa2qHCvMMMrpS8kq09k",
     "type": "CODE"
    }
   },
   "outputs": [
    {
     "name": "stdout",
     "output_type": "stream",
     "text": [
      "2020\n"
     ]
    }
   ],
   "source": [
    "# 随堂练习：输入学号，返回年级信息\n",
    "def stu_info(sid):\n",
    "    info = dict()\n",
    "    info['sid'] = f'202001{sid:02d}'\n",
    "    info['school'] = 'sust'\n",
    "    info['grade'] = 2020\n",
    "    return info\n",
    "\n",
    "print(stu_info(1)['grade'])  # 返回值为字典对象"
   ]
  },
  {
   "cell_type": "code",
   "execution_count": 54,
   "metadata": {
    "datalore": {
     "hide_input_from_viewers": false,
     "hide_output_from_viewers": false,
     "node_id": "SLo6yZFmYhKSS6WzzW7syi",
     "type": "CODE"
    }
   },
   "outputs": [
    {
     "name": "stdout",
     "output_type": "stream",
     "text": [
      "3.0\n",
      "4.0\n",
      "5.0\n"
     ]
    }
   ],
   "source": [
    "# 47. 函数与变量注解\n",
    "def calnum(x: int, y: int) -> float:  # 为函数的形参和返回值标注类型\n",
    "    return x / y\n",
    "\n",
    "from typing import Tuple\n",
    "num1: Tuple[int, ...] = (6, 8, 10)   # 变量注解，仅标注类型，非声明\n",
    "num2: int = 2\n",
    "\n",
    "for i in num1:\n",
    "    print(calnum(i, num2))"
   ]
  },
  {
   "cell_type": "code",
   "execution_count": 55,
   "metadata": {
    "datalore": {
     "hide_input_from_viewers": false,
     "hide_output_from_viewers": false,
     "node_id": "OE8pI7UfN5DRFPL2xt72fT",
     "type": "CODE"
    }
   },
   "outputs": [
    {
     "name": "stdout",
     "output_type": "stream",
     "text": [
      "35.49\n",
      "45.0\n",
      "77\n",
      "0.06363636363636363\n"
     ]
    }
   ],
   "source": [
    "# 48. 传递实参的方式：位置参数与关键字参数\n",
    "def func(x, y, z=1.5):\n",
    "    if z > 1:\n",
    "        return z * (x + y)\n",
    "    else:\n",
    "        return z / (x + y)\n",
    "    \n",
    "print(func(3.14, 7, 3.5))  # 按位置参数传入\n",
    "print(func(10, 20))  # 带默认值的形参可不必传入\n",
    "print(func(y=6, x=5, z=7))  # 按关键字参数传入，顺序随意\n",
    "print(func(5, 6, z=0.7))  # 混合方式传入, 位置参数必须位于关键字参数之前"
   ]
  },
  {
   "cell_type": "code",
   "execution_count": 56,
   "metadata": {
    "datalore": {
     "hide_input_from_viewers": false,
     "hide_output_from_viewers": false,
     "node_id": "wB69JDYlLe4XUkhKhIzbyS",
     "type": "CODE"
    }
   },
   "outputs": [],
   "source": [
    "# 49. 仅位置参数与仅关键字参数\n",
    "def f(a, b, /, c, d, *, e, f):  # /之前的参数为仅位置参数，*之后的参数为仅关键字参数\n",
    "    pass\n",
    "\n",
    "f(1, 2, 3, d=4, e=5, f=6)  # a, b只能使用位置参数传入，e，f只能使用关键字参数传入\n",
    "#f(1, b=2, c=3, d=4, e=5, f=6)\n",
    "#f(1, 2, 3, 4, 5, f=6)"
   ]
  },
  {
   "cell_type": "code",
   "execution_count": 57,
   "metadata": {
    "datalore": {
     "hide_input_from_viewers": false,
     "hide_output_from_viewers": false,
     "node_id": "nU2w2SBRMimfo17SIWllsk",
     "type": "CODE"
    }
   },
   "outputs": [
    {
     "name": "stdout",
     "output_type": "stream",
     "text": [
      "(3+4j)\n",
      "(3+4j)\n",
      "Welcome\n",
      "(1, 2, 3)\n",
      "{'name': 'abc'}\n"
     ]
    }
   ],
   "source": [
    "# 50. 参数打散\n",
    "print(complex(*[3, 4]))  # 序列打散为位置参数\n",
    "print(complex(**{'imag': 4, 'real': 3}))  # 字典打散为关键字参数\n",
    "\n",
    "def func(required, *args, **kwargs):  # 接受任意数量、任意类型的实参\n",
    "    print(required)\n",
    "    print(args)\n",
    "    print(kwargs)\n",
    "\n",
    "func('Welcome', 1, 2, 3, name='abc')"
   ]
  },
  {
   "cell_type": "code",
   "execution_count": 58,
   "metadata": {
    "datalore": {
     "hide_input_from_viewers": false,
     "hide_output_from_viewers": false,
     "node_id": "098atNmQNcmWWkcArUj8j1",
     "type": "CODE"
    }
   },
   "outputs": [
    {
     "name": "stdout",
     "output_type": "stream",
     "text": [
      "[1, 2, 3, 4]\n",
      "[1, 2, 3, 4]\n"
     ]
    }
   ],
   "source": [
    "# 51. 参数传递即引用\n",
    "a = [1, 2, 3]\n",
    "\n",
    "def func(p):  # p相当于对象a的一个引用\n",
    "    p.append(4)\n",
    "\n",
    "func(a)  # 永久改变被引用的对象\n",
    "print(a)\n",
    "\n",
    "func(a[:])  # 传递对象的副本\n",
    "print(a)"
   ]
  },
  {
   "cell_type": "code",
   "execution_count": 59,
   "metadata": {
    "datalore": {
     "hide_input_from_viewers": false,
     "hide_output_from_viewers": false,
     "node_id": "qSDaUajL7O3YpdILhf1bv2",
     "type": "CODE"
    }
   },
   "outputs": [
    {
     "name": "stdout",
     "output_type": "stream",
     "text": [
      "[1]\n",
      "[1, 2]\n",
      "[1]\n",
      "[2]\n"
     ]
    }
   ],
   "source": [
    "# 52. 避免可变对象作为默认值\n",
    "def bad_func(a, b=[]):\n",
    "    # 返回一个列表，若b未设置，将a作为第一个元素\n",
    "    b.append(a)\n",
    "    print(b)\n",
    "\n",
    "bad_func(1)\n",
    "bad_func(2) # 每次调用结果不固定，受上一次调用影响\n",
    "\n",
    "def func(a, b=None): # 使用不可变对象作为默认值\n",
    "    if b is None:\n",
    "        b = []\n",
    "    b.append(a)\n",
    "    print(b)\n",
    "\n",
    "func(1)\n",
    "func(2)"
   ]
  },
  {
   "cell_type": "code",
   "execution_count": 60,
   "metadata": {
    "datalore": {
     "hide_input_from_viewers": false,
     "hide_output_from_viewers": false,
     "node_id": "f9CgLMUsZC4rxOTAxBKc7J",
     "type": "CODE"
    }
   },
   "outputs": [
    {
     "name": "stdout",
     "output_type": "stream",
     "text": [
      "3\n"
     ]
    }
   ],
   "source": [
    "# 53. 函数: 变量的命名空间与作用域\n",
    "a = 3\n",
    "def func1():\n",
    "    print(a)  # a:全局命名空间\n",
    "    \n",
    "def func2():\n",
    "    print(a)\n",
    "    a = 4  # a:局部命名空间，报错!\n",
    "    \n",
    "def func3():\n",
    "    a = 4\n",
    "    print(a)  # a:局部命名空间\n",
    "\n",
    "def func4():\n",
    "    a += 4  # a:局部命名空间，报错!\n",
    "    print(a)\n",
    "    \n",
    "def func5():\n",
    "    global a  # global关键字不产生局部命名空间的变量，而是使用全局命名空间的变量\n",
    "    a += 4  # a:全局命名空间\n",
    "    print(a)\n",
    "    \n",
    "b = [1, 2, 3]\n",
    "def func6():\n",
    "    b.append(4)  # b:全局命名空间\n",
    "    print(b)\n",
    "    \n",
    "def func7():\n",
    "    b += [4]  # b:局部命名空间，报错!\n",
    "    print(b)\n",
    "    \n",
    "def func8():\n",
    "    c = 3\n",
    "    def func9():\n",
    "        #nonlocal c  # nonlocal关键字获得最近的外层命名空间中的变量\n",
    "        #c += 1\n",
    "        d = c  # d:func9命名空间中的局部变量\n",
    "        print(d)\n",
    "    func9()\n",
    "    print(c)\n",
    "\n",
    "#func3(); print(a)  # 改变局部变量不会影响全局变量\n",
    "#func5(); print(a)  # global将使用全局变量a\n",
    "func1()"
   ]
  },
  {
   "cell_type": "code",
   "execution_count": 61,
   "metadata": {
    "datalore": {
     "hide_input_from_viewers": false,
     "hide_output_from_viewers": false,
     "node_id": "78zuH4CBJ7pJ3BRCJBjVlS",
     "type": "CODE"
    }
   },
   "outputs": [
    {
     "name": "stdout",
     "output_type": "stream",
     "text": [
      "25\n",
      "3\n"
     ]
    }
   ],
   "source": [
    "# 54. 匿名函数\n",
    "square = lambda x: x * x  # 无def，无代码块\n",
    "print(square(5))\n",
    "# print((lambda x: x * x)(5))  # 直接调用匿名函数\n",
    "\n",
    "# 延伸：无参数的匿名函数（没有意义）\n",
    "print((lambda: 3)())"
   ]
  },
  {
   "cell_type": "code",
   "execution_count": 62,
   "metadata": {
    "datalore": {
     "hide_input_from_viewers": false,
     "hide_output_from_viewers": false,
     "node_id": "EFrqwAwdtQLcQi3hXXrvF8",
     "type": "CODE"
    }
   },
   "outputs": [
    {
     "name": "stdout",
     "output_type": "stream",
     "text": [
      "Shaanxi\n",
      "Beijing\n",
      "Shanghai\n",
      "Shandong\n",
      "['Shaanxi', 'Beijing', 'Shanghai', 'Shandong']\n",
      "Shaanxi\n",
      "Beijing\n",
      "Shanghai\n",
      "Shandong\n"
     ]
    }
   ],
   "source": [
    "# 55. 高阶函数：函数作为对象\n",
    "import re  # 正则表达式模块\n",
    "provinces = [' Shaanxi', 'Beijing#?', '######Shanghai', 'Shan?????dong###']\n",
    "\n",
    "def func(s):\n",
    "    return re.sub('[ #?]', '', s)  # 去掉空格、#和?\n",
    "\n",
    "def pfunc(f):\n",
    "    for p in provinces:\n",
    "        print(f(p))  # 参数f可调用\n",
    "\n",
    "pfunc(func)  # 函数作为参数\n",
    "\n",
    "print([func(t) for t in provinces])  #在推导式中使用函数\n",
    "\n",
    "for x in map(func, provinces):  # map高阶函数\n",
    "    print(x)"
   ]
  },
  {
   "cell_type": "code",
   "execution_count": 63,
   "metadata": {
    "datalore": {
     "hide_input_from_viewers": false,
     "hide_output_from_viewers": false,
     "node_id": "IkBbrJw37UNJTDaG6SBgnV",
     "type": "CODE"
    }
   },
   "outputs": [
    {
     "name": "stdout",
     "output_type": "stream",
     "text": [
      "1.0\n",
      "3.0\n",
      "5.0\n"
     ]
    }
   ],
   "source": [
    "# 56. 闭包\n",
    "def f():\n",
    "    s = []\n",
    "    def g(a):\n",
    "        s.append(a)  # s为外层命名空间变量，若s不可变，也可使用nonlocal指定\n",
    "        return sum(s) / len(s)  # 计算列表s的平均值\n",
    "    return g  # 函数作为返回值，且使用了外层命名空间的变量s，此时s称为自由变量\n",
    "\n",
    "\n",
    "#print(f()(3))  # 直接调用意义不大\n",
    "\n",
    "avg = f()  # avg即返回的内层函数\n",
    "print(avg(1))  # 自由变量s绑定到内存函数avg上，内层函数存在时，自由变量不消失\n",
    "print(avg(5))\n",
    "print(avg(9))  # 闭包很容易通过类实现"
   ]
  },
  {
   "cell_type": "code",
   "execution_count": 64,
   "metadata": {
    "datalore": {
     "hide_input_from_viewers": false,
     "hide_output_from_viewers": false,
     "node_id": "HVU3JFsaNwcQyFeQ97nEK4",
     "type": "CODE"
    }
   },
   "outputs": [
    {
     "name": "stdout",
     "output_type": "stream",
     "text": [
      "Post a message!\n"
     ]
    }
   ],
   "source": [
    "# 57. 装饰器\n",
    "user = 'leid'  # 当前登录用户\n",
    "\n",
    "def login(func):\n",
    "    if user == 'leid':  # 若登录则继续执行func\n",
    "        return func\n",
    "    else:  # 若未登录，跳转到登录界面\n",
    "        print('Not Login')\n",
    "        \n",
    "@login\n",
    "def post():  # 发布消息需登录\n",
    "    print('Post a message!')\n",
    "\n",
    "post()"
   ]
  },
  {
   "cell_type": "code",
   "execution_count": 65,
   "metadata": {
    "datalore": {
     "hide_input_from_viewers": false,
     "hide_output_from_viewers": false,
     "node_id": "wkS5UcGiBco4avqOXnxgbk",
     "type": "CODE"
    }
   },
   "outputs": [
    {
     "name": "stdout",
     "output_type": "stream",
     "text": [
      "running inner()\n"
     ]
    },
    {
     "data": {
      "text/plain": [
       "<function __main__.deco.<locals>.inner()>"
      ]
     },
     "execution_count": 65,
     "metadata": {},
     "output_type": "execute_result"
    }
   ],
   "source": [
    "# 58. 装饰器：将函数替换成其他函数\n",
    "def deco(func):\n",
    "    def inner():\n",
    "        print('running inner()')\n",
    "    return inner  # 装饰器把传入的函数func替换成另一个函数inner\n",
    "\n",
    "@deco\n",
    "def target():\n",
    "    print('running target()')\n",
    "\n",
    "target()  # deco(target)实际上运行的是inner\n",
    "target  # target现在是inner的引用"
   ]
  },
  {
   "cell_type": "markdown",
   "metadata": {
    "datalore": {
     "hide_input_from_viewers": false,
     "hide_output_from_viewers": false,
     "node_id": "Xv7VvdMp04LxmWzcdDm1Zg",
     "type": "CODE"
    }
   },
   "source": [
    "# 1.6 迭代器与生成器"
   ]
  },
  {
   "cell_type": "code",
   "execution_count": 66,
   "metadata": {},
   "outputs": [
    {
     "name": "stdout",
     "output_type": "stream",
     "text": [
      "  5           0 LOAD_CONST               1 (('hello', 'world', '!'))\n",
      "              2 GET_ITER\n",
      "        >>    4 FOR_ITER                12 (to 18)\n",
      "              6 STORE_FAST               0 (word)\n",
      "\n",
      "  6           8 LOAD_GLOBAL              0 (print)\n",
      "             10 LOAD_FAST                0 (word)\n",
      "             12 CALL_FUNCTION            1\n",
      "             14 POP_TOP\n",
      "             16 JUMP_ABSOLUTE            4\n",
      "\n",
      "  8     >>   18 LOAD_GLOBAL              0 (print)\n",
      "             20 LOAD_CONST               2 ('End')\n",
      "             22 CALL_FUNCTION            1\n",
      "             24 POP_TOP\n",
      "             26 LOAD_CONST               0 (None)\n",
      "             28 RETURN_VALUE\n"
     ]
    }
   ],
   "source": [
    "# 59. 理解循环: 迭代器\n",
    "import dis  # 反汇编模块\n",
    "\n",
    "def func():\n",
    "    for word in ['hello', 'world', '!']:\n",
    "        print(word)\n",
    "    else:\n",
    "        print('End')\n",
    "\n",
    "# 输出列：源码中的行号、指令标记（用于跳转）、指令地址\n",
    "# 操作码名称、操作参数、对参数的解释\n",
    "dis.dis(func)"
   ]
  },
  {
   "cell_type": "code",
   "execution_count": 67,
   "metadata": {},
   "outputs": [
    {
     "name": "stdout",
     "output_type": "stream",
     "text": [
      "<class 'list_iterator'>\n",
      "ab\n",
      "1\n",
      "['x', 'y']\n",
      "[]\n"
     ]
    }
   ],
   "source": [
    "# 60. 迭代器\n",
    "foo = iter(['ab', 1, ['x', 'y']])\n",
    "print(type(foo))  # 迭代器对象\n",
    "print(next(foo))\n",
    "print(next(foo))\n",
    "print(next(foo))  # next取出下一个元素，迭代器是一次性的遍历\n",
    "# print(next(foo))  # 迭代器为空时，调用next触发StopIteration异常\n",
    "print(list(foo))  # 空列表，list函数一次性获得迭代器中所有剩余的元素"
   ]
  },
  {
   "cell_type": "code",
   "execution_count": 68,
   "metadata": {},
   "outputs": [
    {
     "name": "stdout",
     "output_type": "stream",
     "text": [
      "<class 'generator'>\n",
      "3\n",
      "4\n",
      "5\n"
     ]
    }
   ],
   "source": [
    "# 61. 生成器\n",
    "def func():  # 生成器函数\n",
    "    yield 3  # 生成器以yield关键字代替return\n",
    "    yield 4\n",
    "    yield 5\n",
    "    \n",
    "foo = func()\n",
    "print(type(foo))  # 生成器对象\n",
    "\n",
    "print(next(foo))\n",
    "print(next(foo))\n",
    "print(next(foo))\n",
    "# print(next(foo))  # 触发StopIteration异常"
   ]
  },
  {
   "cell_type": "code",
   "execution_count": 69,
   "metadata": {},
   "outputs": [
    {
     "name": "stdout",
     "output_type": "stream",
     "text": [
      "[1, 1, 2, 3, 5, 8, 13, 21, 34, 55]\n",
      "[1, 1, 2, 3, 5, 8, 13, 21, 34, 55]\n"
     ]
    }
   ],
   "source": [
    "# 62. 打印斐波拉契数列\n",
    "def fib(n):  # 普通函数\n",
    "    i, a, b = 0, 0, 1\n",
    "    while i < n:\n",
    "        a, b = b, a + b  # 交换变量\n",
    "        i += 1\n",
    "    return b\n",
    "\n",
    "print([fib(i) for i in range(10)])  # 普通函数每次调用都会从头开始执行\n",
    "\n",
    "\n",
    "def fib2(n):  # 生成器\n",
    "    i, a, b = 0, 0, 1\n",
    "    while i < n:\n",
    "        yield b  # 生成器函数在yield处返回，并挂起当前状态，下次执行时由此进入\n",
    "        a, b = b, a + b\n",
    "        i += 1\n",
    "        \n",
    "print(list(fib2(10)))"
   ]
  },
  {
   "cell_type": "code",
   "execution_count": 70,
   "metadata": {},
   "outputs": [
    {
     "data": {
      "text/plain": [
       "<generator object <genexpr> at 0x7fd770248580>"
      ]
     },
     "execution_count": 70,
     "metadata": {},
     "output_type": "execute_result"
    }
   ],
   "source": [
    "# 63. 生成器表达式\n",
    "(i * i for i in range(10))  # 类似推导式\n",
    "# (i * i for i in range(10) if i % 2 == 0)"
   ]
  },
  {
   "cell_type": "markdown",
   "metadata": {},
   "source": [
    "# 1.7 常用内置序列函数和高阶函数"
   ]
  },
  {
   "cell_type": "code",
   "execution_count": 71,
   "metadata": {},
   "outputs": [
    {
     "name": "stdout",
     "output_type": "stream",
     "text": [
      "[' ', '!', 'H', 'W', 'd', 'e', 'l', 'l', 'l', 'o', 'o', 'r']\n",
      "[('red', 1), ('red', 2), ('blue', 1), ('blue', 2)]\n",
      "[('red', 1), ('red', 2), ('blue', 1), ('blue', 2)]\n"
     ]
    }
   ],
   "source": [
    "# 64. sorted\n",
    "# 将可迭代对象转换为一个已排序列表\n",
    "\n",
    "print(sorted('Hello World!'))\n",
    "\n",
    "from operator import itemgetter  # itemgetter(2)(s)相当于s[2]\n",
    "# 三大键函数（itemgetter, attrgetter, methodcaller）\n",
    "\n",
    "data = [('red', 1), ('blue', 1), ('red', 2), ('blue', 2)]\n",
    "# 按元素的第一项（即颜色字符串）逆序排列，如果相同则保持原顺序\n",
    "print(sorted(data, key=itemgetter(0), reverse=True))\n",
    "\n",
    "data.sort(key=itemgetter(0), reverse=True)  # 列表的sort方法就地修改，不产生新对象\n",
    "print(data)"
   ]
  },
  {
   "cell_type": "code",
   "execution_count": 72,
   "metadata": {},
   "outputs": [
    {
     "name": "stdout",
     "output_type": "stream",
     "text": [
      "<range_iterator object at 0x7fd7702d36c0>\n",
      "9\n",
      "8\n",
      "7\n",
      "6\n",
      "5\n",
      "4\n",
      "3\n",
      "2\n",
      "1\n",
      "0\n",
      "[9, 8, 7, 6, 5, 4, 3, 2, 1, 0]\n"
     ]
    }
   ],
   "source": [
    "# 65. reversed\n",
    "# 返回序列的反向生成器\n",
    "\n",
    "print(reversed(range(10)))  # Reversed（反向生成器）对象\n",
    "for i in reversed(range(10)):\n",
    "    print(i)\n",
    "    \n",
    "data = list(range(10))\n",
    "data.reverse()  # 列表的reverse方法就地修改，不产生新对象\n",
    "print(data)"
   ]
  },
  {
   "cell_type": "code",
   "execution_count": 73,
   "metadata": {},
   "outputs": [
    {
     "name": "stdout",
     "output_type": "stream",
     "text": [
      "[(0, 'Spring'), (1, 'Summer'), (2, 'Fall'), (3, 'Winter')]\n",
      "[(4, 'Spring'), (5, 'Summer'), (6, 'Fall'), (7, 'Winter')]\n",
      "[(0, 'Spring'), (1, 'Summer'), (2, 'Fall'), (3, 'Winter')]\n"
     ]
    }
   ],
   "source": [
    "# 66. enumerate\n",
    "# 返回可迭代对象的枚举对象\n",
    "\n",
    "seasons = ['Spring', 'Summer', 'Fall', 'Winter']\n",
    "print(list(enumerate(seasons)))  # Enumerate（枚举）对象是一种元组生成器\n",
    "print(list(enumerate(seasons, start=4)))  # start设置枚举的起始序号\n",
    "\n",
    "def func(sequence, start=0):  # 常规写法\n",
    "    n = start\n",
    "    for elem in sequence:\n",
    "        yield n, elem\n",
    "        n += 1\n",
    "print(list(func(seasons)))"
   ]
  },
  {
   "cell_type": "code",
   "execution_count": 74,
   "metadata": {},
   "outputs": [
    {
     "name": "stdout",
     "output_type": "stream",
     "text": [
      "[(1, 3), (2, 4)]\n",
      "[('a', 'c', 'f'), ('b', 'd', 'g')]\n",
      "[('x', 'y', 'z'), (0, 1, 2)]\n"
     ]
    }
   ],
   "source": [
    "# 67. zip\n",
    "# 创建一个zip对象，聚合来自每个可迭代对象中的元素\n",
    "\n",
    "# Zip对象是一种元组生成器，第i个元组包含来自每个可迭代对象的第i个元素，像拉链咬合在一起\n",
    "print(list(zip([1, 2], (3, 4))))\n",
    "# 最短的可迭代对象耗尽时终止\n",
    "print(list(zip(['a', 'b'], ('c', 'd', 'e'), ['f', 'g', 'h', 'i'])))\n",
    "\n",
    "p = [('x', 0), ('y', 1), ('z', 2)]\n",
    "print(list(zip(*p)))  # 配合打散，实现类似转置的效果"
   ]
  },
  {
   "cell_type": "code",
   "execution_count": 75,
   "metadata": {},
   "outputs": [
    {
     "name": "stdout",
     "output_type": "stream",
     "text": [
      "[1, 4, 9, 16, 25]\n",
      "[7, 15, 23, 31]\n",
      "[1, 4, 9, 16, 25]\n",
      "[7, 15, 23, 31]\n"
     ]
    }
   ],
   "source": [
    "# 68. map\n",
    "# 将函数作用到可迭代对象的每一项上，返回Map对象（也是一种生成器）\n",
    "# map函数的功能通过列表推导式或生成器表达式更容易实现\n",
    "\n",
    "print(list(map(lambda x: x ** 2, [1, 2, 3, 4, 5])))  # 将匿名函数作用到列表的每一项\n",
    "print(list(map(lambda x, y: x + 3 * y, \n",
    "               [1, 3, 5, 7], [2, 4, 6, 8, 10])))  # 多参数函数时，最短对象耗尽则终止\n",
    "\n",
    "print([x ** 2 for x in [1, 2, 3, 4, 5]])  # 推导式写法\n",
    "print([x + 3 * y for x, y in zip([1, 3, 5, 7], [2, 4, 6, 8, 10])])"
   ]
  },
  {
   "cell_type": "code",
   "execution_count": 76,
   "metadata": {},
   "outputs": [
    {
     "name": "stdout",
     "output_type": "stream",
     "text": [
      "[1, 4, 9, 16, 25, 36, 49, 64, 81, 100]\n",
      "[-3, -2, -1, 1, 2]\n",
      "[1, 4, 9, 16, 25, 36, 49, 64, 81, 100]\n",
      "[-3, -2, -1, 1, 2]\n"
     ]
    }
   ],
   "source": [
    "# 69. filter\n",
    "# 过滤一个可迭代对象，返回Filter对象（也是一种生成器）\n",
    "# filter函数的功能通过列表推导式或生成器表达式更容易实现\n",
    "\n",
    "import math\n",
    "def is_sqr(x):\n",
    "    return math.sqrt(x) % 1 == 0\n",
    " \n",
    "print(list(filter(is_sqr, range(1, 101))))\n",
    "print(list(filter(None, range(-3, 3))))  # None过滤值为真的项，等价于bool\n",
    "\n",
    "print([x for x in range(1, 101) if is_sqr(x)])  # 推导式写法\n",
    "print([x for x in range(-3, 3) if x])"
   ]
  },
  {
   "cell_type": "code",
   "execution_count": 77,
   "metadata": {},
   "outputs": [
    {
     "name": "stdout",
     "output_type": "stream",
     "text": [
      "15\n",
      "25\n",
      "4950 4950\n",
      "False False\n",
      "True True\n"
     ]
    }
   ],
   "source": [
    "# 70. reduce\n",
    "# 对序列进行归约，计算聚合后的结果（类型与原序列中项的类型一致）\n",
    "\n",
    "from functools import reduce\n",
    "\n",
    "print(reduce(lambda x, y: x + y, [1, 2, 3, 4, 5]))\n",
    "# 将函数（必须为双参数函数）连续作用到序列的元素上，累计之前的结果\n",
    "# 即：(((1+2)+3)+4)+5\n",
    "\n",
    "print(reduce(lambda x, y: x + y, [1, 2, 3, 4, 5], 10))  # initial参数提供初始值\n",
    "# 即：(((((10+1)+2)+3)+4)+5)\n",
    "\n",
    "# 延伸：sum是一种加法归约\n",
    "from operator import add  # operator模块提供了各种运算符的对应函数\n",
    "print(sum(range(100)), reduce(add, range(100)))\n",
    "\n",
    "# 延伸：all是一种与归约\n",
    "from operator import and_\n",
    "print(all(range(-3, 3)), bool(reduce(and_, range(-3, 3))))\n",
    "\n",
    "# 延伸：any是一种或归约\n",
    "from operator import or_\n",
    "print(any([1, 0]), bool(reduce(or_, [1, 0])))"
   ]
  },
  {
   "cell_type": "code",
   "execution_count": 78,
   "metadata": {},
   "outputs": [
    {
     "name": "stdout",
     "output_type": "stream",
     "text": [
      "{'male': ['Alan Turing', 'Dennis Ritchie'], 'female': ['Ada Lovelace', 'Frances E. Allen']}\n"
     ]
    }
   ],
   "source": [
    "# 延伸：reduce（一个复杂的例子）\n",
    "from functools import reduce\n",
    "scientists =({'name':'Alan Turing', 'age':105, 'gender':'male'},\n",
    "             {'name':'Dennis Ritchie', 'age':76, 'gender':'male'},\n",
    "             {'name':'Ada Lovelace', 'age':202, 'gender':'female'},\n",
    "             {'name':'Frances E. Allen', 'age':84, 'gender':'female'})\n",
    "\n",
    "# 将scientists字典中的人名，按照性别生成新的字典\n",
    "grouped = reduce(lambda acc, \n",
    "                 val: {**acc, **{val['gender']: acc[val['gender']] + [val['name']]}},\n",
    "                 scientists, {'male':[], 'female':[]})\n",
    "\n",
    "# 初始值为male和female键的空字典\n",
    "# 匿名函数将分别将两个参数的字典打散后合并\n",
    "# 第一个参数为累积的字典，第二个参数从scientists取出下一个人名，并添加到对应的male或female键中\n",
    "# 合并时第二个参数的键将覆盖（更新）累积的字典\n",
    "\n",
    "print(grouped)"
   ]
  },
  {
   "cell_type": "markdown",
   "metadata": {},
   "source": [
    "# 1.8 类"
   ]
  },
  {
   "cell_type": "code",
   "execution_count": 79,
   "metadata": {},
   "outputs": [
    {
     "data": {
      "text/plain": [
       "(12345, 'Hello World!')"
      ]
     },
     "execution_count": 79,
     "metadata": {},
     "output_type": "execute_result"
    }
   ],
   "source": [
    "# 71. 类作为变量与函数的壳\n",
    "class MyClass():  # 类名一般使用驼峰命名，首字母大写\n",
    "    \"\"\"\n",
    "    Class is a wrapper\n",
    "    by lding\n",
    "    \"\"\"\n",
    "    \n",
    "    i = 12345\n",
    "    \n",
    "    def f():\n",
    "        return 'Hello World!'\n",
    "    \n",
    "MyClass.i, MyClass.f()  # 类将创建一个局部命名空间，使用点号访问"
   ]
  },
  {
   "cell_type": "code",
   "execution_count": 80,
   "metadata": {},
   "outputs": [
    {
     "name": "stdout",
     "output_type": "stream",
     "text": [
      "\n",
      "    Class is a wrapper\n",
      "    by lding\n",
      "    \n",
      "MyClass\n",
      "__main__\n",
      "(<class 'object'>,)\n",
      "{'__module__': '__main__', '__doc__': '\\n    Class is a wrapper\\n    by lding\\n    ', 'i': 12345, 'f': <function MyClass.f at 0x7fd7702533a0>, '__dict__': <attribute '__dict__' of 'MyClass' objects>, '__weakref__': <attribute '__weakref__' of 'MyClass' objects>}\n"
     ]
    }
   ],
   "source": [
    "# 72. 类的内置魔术属性\n",
    "print(MyClass.__doc__)  # 文档字符串\n",
    "print(MyClass.__name__)  # 类名称\n",
    "print(MyClass.__module__)  # 定义类的模块\n",
    "print(MyClass.__bases__)  # 类的父类（元组）\n",
    "\n",
    "print(MyClass.__dict__)  # 类的属性字典"
   ]
  },
  {
   "cell_type": "code",
   "execution_count": 81,
   "metadata": {},
   "outputs": [
    {
     "data": {
      "text/plain": [
       "(12345, 2, 'example', [], 'Hello World!')"
      ]
     },
     "execution_count": 81,
     "metadata": {},
     "output_type": "execute_result"
    }
   ],
   "source": [
    "# 73. 实例化\n",
    "class MyClass2():\n",
    "    \"\"\"A simple example class\"\"\"\n",
    "    \n",
    "    def __init__(self, name):  # 构造方法，创建实例将自动调用构造方法\n",
    "        self.num = 2\n",
    "        self.name = name\n",
    "       \n",
    "    i = 12345\n",
    "    \n",
    "    def f(self):  # 第一个行参self表示：方法在调用时自动将实例传递给self\n",
    "        return 'Hello World!'\n",
    "    \n",
    "x = MyClass2('example')\n",
    "x.data = []  # 允许实例对象额外定义变量\n",
    "x.i, x.num, x.name, x.data, x.f()"
   ]
  },
  {
   "cell_type": "code",
   "execution_count": 82,
   "metadata": {},
   "outputs": [
    {
     "name": "stdout",
     "output_type": "stream",
     "text": [
      "canine\n",
      "dog pet ['roll over']\n",
      "dog mammal ['play dead']\n"
     ]
    }
   ],
   "source": [
    "# 74. 类变量与实例变量\n",
    "class Dog:\n",
    "    \n",
    "    kind = 'canine'  # 类变量：描述共有的特点\n",
    "    category = 'mammal'\n",
    "    \n",
    "    def __init__(self, name):\n",
    "        self.name = name  # 实例变量为self修饰的变量，即属性\n",
    "        self.tricks = []  # 可变对象通常不作为类变量\n",
    "        self.kind = 'dog'  # 与类变量重名的实例变量\n",
    "        \n",
    "    def add_trick(self, trick):\n",
    "        self.tricks.append(trick)  # 实例变量在__init__中初始化，在其他方法中使用\n",
    "        \n",
    "print(Dog.kind)\n",
    "        \n",
    "d = Dog('Fido')\n",
    "d.category = 'pet'  # 实例对类变量的修改只对当前实例有效\n",
    "d.add_trick('roll over')\n",
    "print(d.kind, d.category, d.tricks)  # 重名时使用实例变量\n",
    "\n",
    "e = Dog('Buddy')\n",
    "e.add_trick('play dead')\n",
    "print(e.kind, e.category, e.tricks)"
   ]
  },
  {
   "cell_type": "code",
   "execution_count": 83,
   "metadata": {},
   "outputs": [
    {
     "name": "stdout",
     "output_type": "stream",
     "text": [
      "True True\n",
      "Ken says: I am 10\n",
      "and I am in grade 3\n"
     ]
    }
   ],
   "source": [
    "# 75. 继承\n",
    "class People:\n",
    "    def __init__(self, n='', a=0, w=0):\n",
    "        self.name = n\n",
    "        self.age = a\n",
    "        self.weight = w\n",
    "    \n",
    "    def speak(self):\n",
    "        print(f'{self.name} says: I am {self.age}')\n",
    "        \n",
    "\n",
    "class Student(People):  # 括号内为继承的父类，允许多重继承\n",
    "    def __init__(self, n='', a=0, w=0, g=''):\n",
    "        #People.__init__(self, n, a, w)  # 可直接使用父类名调用其方法\n",
    "        super().__init__(n, a, w)  # 也可使用super函数\n",
    "        self.grade = g\n",
    "    \n",
    "    def speak(self):  # 方法重写\n",
    "        # 推荐使用super函数\n",
    "        # 多重继承时，若多个父类都拥有该方法，\n",
    "        # 则super函数通过查找MRO（Method Resolution Order）表，\n",
    "        # 获得最接近的父类方法\n",
    "        super().speak()\n",
    "        # People.speak(self)\n",
    "        print(f'and I am in grade {self.grade}')\n",
    "        \n",
    "\n",
    "s = Student('Ken', 10, 60, 3)\n",
    "print(isinstance(s, People), issubclass(Student, People))  # 判断继承关系\n",
    "s.speak()"
   ]
  },
  {
   "cell_type": "code",
   "execution_count": 84,
   "metadata": {},
   "outputs": [
    {
     "name": "stdout",
     "output_type": "stream",
     "text": [
      "f is private\n"
     ]
    },
    {
     "data": {
      "text/plain": [
       "('abc', 7)"
      ]
     },
     "execution_count": 84,
     "metadata": {},
     "output_type": "execute_result"
    }
   ],
   "source": [
    "# 76. 私有属性和方法\n",
    "class A:\n",
    "    def __init__(self):\n",
    "        self._x = 'abc'  # 约定单下划线开头的属性为非公开属性，仅类和子类使用，实例不使用\n",
    "        self.__var = 7  # 约定双下划线开头的属性为私有属性，仅类本身使用\n",
    "    \n",
    "    def __f(self):  # 私有方法\n",
    "        print('f is private')\n",
    "        \n",
    "a = A()\n",
    "a._A__f()  # 私有属性和方法在外部将自动被名称转写\n",
    "a._x, a._A__var"
   ]
  },
  {
   "cell_type": "markdown",
   "metadata": {},
   "source": [
    "# 1.9 异常处理与文件操作"
   ]
  },
  {
   "cell_type": "code",
   "execution_count": 85,
   "metadata": {},
   "outputs": [
    {
     "name": "stdout",
     "output_type": "stream",
     "text": [
      "1. \n",
      "result is 1.6666666666666667\n",
      "executing finally clause\n",
      "\n",
      "2. \n",
      "division by zero\n",
      "executing finally clause\n",
      "\n",
      "3. \n",
      "assert error\n",
      "executing finally clause\n",
      "\n",
      "4. \n",
      "x is too large\n",
      "executing finally clause\n",
      "\n",
      "5. \n",
      "x is too small\n",
      "executing finally clause\n",
      "\n",
      "6. \n",
      "Unexpected Error\n",
      "executing finally clause\n"
     ]
    }
   ],
   "source": [
    "# 77. try语句\n",
    "def func(x, y):\n",
    "    try:  # 正常操作的代码\n",
    "        assert(y < 10)  # 断言\n",
    "        if x > 10:  # raise手动抛出异常\n",
    "            raise ValueError('x is too large')\n",
    "        if x < 5:\n",
    "            raise ValueError('x is too small')\n",
    "        result = x / y  # 可能触发除0异常\n",
    "        \n",
    "    except AssertionError:  # 处理try语句中的异常和错误\n",
    "        print('assert error')\n",
    "        \n",
    "    except ValueError as verr:\n",
    "        print('.'.join(verr.args))\n",
    "        \n",
    "    except ZeroDivisionError:\n",
    "        print('division by zero')\n",
    "        \n",
    "    except:  # 处理所有未匹配的异常\n",
    "        print('Unexpected Error')\n",
    "        \n",
    "    else:  # 当try语句中无异常，且无return、break、continue时执行\n",
    "        print('result is', result)\n",
    "        \n",
    "    finally:  # 清理程序，总会被执行\n",
    "        print('executing finally clause')\n",
    "\n",
    "print('1. '); func(5, 3)  # 无异常\n",
    "print('\\n2. '); func(5, 0)  # 除0错误\n",
    "print('\\n3. '); func(5, 10)  # 断言错误\n",
    "print('\\n4. '); func(20, 3)  # 手动异常\n",
    "print('\\n5. '); func(1, 3)  # 手动异常\n",
    "print('\\n6. '); func('a', 9)  # 未被精准捕获的异常"
   ]
  },
  {
   "cell_type": "code",
   "execution_count": 86,
   "metadata": {},
   "outputs": [
    {
     "name": "stdout",
     "output_type": "stream",
     "text": [
      "<class '_io.TextIOWrapper'>\n",
      "Hello World"
     ]
    }
   ],
   "source": [
    "# 78. 文件操作1\n",
    "f = open('foo.txt', 'w')  # open函数用来创建文件对象，参数包括文件路径和打开模式\n",
    "print(type(f))\n",
    "f.write('Hello World')  # 返回写入的字符数\n",
    "f.close()  # 关闭后再使用f将触发异常\n",
    "\n",
    "!cat foo.txt  # ipython执行linux命令"
   ]
  },
  {
   "cell_type": "code",
   "execution_count": 87,
   "metadata": {},
   "outputs": [
    {
     "name": "stdout",
     "output_type": "stream",
     "text": [
      "lo World\n",
      "11\n"
     ]
    }
   ],
   "source": [
    "# 79. 文件操作2\n",
    "f = open('foo.txt')\n",
    "# print(f.readline())  # 读取单独的一行，返回读取的内容\n",
    "# print(f.readlines())  # 读取所有的行\n",
    "f.seek(3)  # 改变文件偏移\n",
    "for line in f:  # 直接遍历文件对象，得到一行\n",
    "    print(line)\n",
    "print(f.tell())  # 返回文件偏移\n",
    "f.close()"
   ]
  },
  {
   "cell_type": "code",
   "execution_count": 88,
   "metadata": {},
   "outputs": [
    {
     "name": "stdout",
     "output_type": "stream",
     "text": [
      "Hello Wor\n",
      "<class '_io.TextIOWrapper'>\n"
     ]
    }
   ],
   "source": [
    "# 80. with语句\n",
    "with open('foo.txt') as f:  # with语句用于文件操作，简化了异常处理和清理程序\n",
    "    print(f.read(9))\n",
    "\n",
    "print(type(f))  # with没有定义新的作用域，TARGET仍存在\n",
    "#f.read(5)  # with自动调用了清理程序close，不能再次读取"
   ]
  },
  {
   "cell_type": "code",
   "execution_count": 89,
   "metadata": {},
   "outputs": [
    {
     "name": "stdout",
     "output_type": "stream",
     "text": [
      "YKCOWREBBAJ\n",
      "dlroW olleH\n",
      "Done!\n"
     ]
    }
   ],
   "source": [
    "# 延伸：上下文管理器示例\n",
    "class LookingGlass:\n",
    "    \n",
    "    def __enter__(self):\n",
    "        import sys\n",
    "        self.original_write = sys.stdout.write  # 临时保存stdout\n",
    "        sys.stdout.write = self.reverse_write  # 将stdout替换成reverse_write\n",
    "        return 'JABBERWOCKY'\n",
    "    \n",
    "    def reverse_write(self, text):  # 反向字符串\n",
    "        self.original_write(text[::-1])\n",
    "    \n",
    "    def __exit__(self, exc_type, exc_value, traceback):\n",
    "        import sys\n",
    "        sys.stdout.write = self.original_write  # 恢复stdout\n",
    "        if exc_type is ValueError:  # 处理异常，如果需要\n",
    "            print('Error : ' + exc_value)\n",
    "        return True\n",
    "    \n",
    "\n",
    "with LookingGlass() as what:\n",
    "    print(what)  # print调用了sys.stdouot.write，在此上下文中已被替代\n",
    "    print('Hello World')\n",
    "\n",
    "print('Done!')  # 已离开上下文"
   ]
  }
 ],
 "metadata": {
  "datalore": {
   "base_environment": "default",
   "computation_mode": "JUPYTER",
   "package_manager": "pip",
   "packages": [],
   "version": 1
  },
  "kernelspec": {
   "display_name": "Python 3 (ipykernel)",
   "language": "python",
   "name": "python3"
  },
  "language_info": {
   "codemirror_mode": {
    "name": "ipython",
    "version": 3
   },
   "file_extension": ".py",
   "mimetype": "text/x-python",
   "name": "python",
   "nbconvert_exporter": "python",
   "pygments_lexer": "ipython3",
   "version": "3.9.13"
  }
 },
 "nbformat": 4,
 "nbformat_minor": 4
}
