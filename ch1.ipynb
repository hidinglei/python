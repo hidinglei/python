{
 "cells": [
  {
   "cell_type": "markdown",
   "metadata": {},
   "source": [
    "# 1.1 基本类型"
   ]
  },
  {
   "cell_type": "code",
   "execution_count": null,
   "metadata": {},
   "outputs": [],
   "source": [
    "# 1. 数值类型int和float\n",
    "ival = 16777216\n",
    "print(ival ** 6)\n",
    "print(3 / 2, 4 / 2, 3 // 2)\n",
    "print(ival ** 6 / 1)"
   ]
  },
  {
   "cell_type": "code",
   "execution_count": null,
   "metadata": {},
   "outputs": [],
   "source": [
    "# 2. 字符串类型\n",
    "a = 'one way of writing a string'\n",
    "b = \"another way 'use single quotes'.\"\n",
    "c = \"\"\"third way\n",
    "a longer string that\n",
    "spans multiple lines\n",
    "\"\"\"\n",
    "d = r'this\\has\\no\\special\\characters'\n",
    "print('\\n'.join([a, b, c, d]))"
   ]
  },
  {
   "cell_type": "code",
   "execution_count": null,
   "metadata": {},
   "outputs": [],
   "source": [
    "# 3. 字符串切片与格式化\n",
    "print('abcd'[:3])\n",
    "print('%.2f %s are worth US$%d' % (4.5560, 'Argentine Pesos', 1))\n",
    "print('{0:.2f} {1:s} are worth US${2}'.format(4.5560, 'Argentine Pesos', 1))\n",
    "\n",
    "a = 4.5560\n",
    "b = 'Argentine Pesos'\n",
    "c = 1\n",
    "print(f'{a:.2f} {b} are worth US${c}')"
   ]
  },
  {
   "cell_type": "code",
   "execution_count": null,
   "metadata": {},
   "outputs": [],
   "source": [
    "# 4. 字节类型\n",
    "val = '中文'\n",
    "print('val: %s, %s' % (val, type(val)))\n",
    "val1 = val.encode('utf-8')\n",
    "print('val1: %s, %s' % (val1, type(val1)))\n",
    "print('%s, %s' % (type('abc'), type(b'abc')))"
   ]
  },
  {
   "cell_type": "code",
   "execution_count": null,
   "metadata": {},
   "outputs": [],
   "source": [
    "# 5. 布尔类型\n",
    "print(True and False)\n",
    "print(True or False)\n",
    "print(bool(0), bool(0.1), bool(''), bool(' '))"
   ]
  },
  {
   "cell_type": "code",
   "execution_count": null,
   "metadata": {},
   "outputs": [],
   "source": [
    "# 6. None类型\n",
    "def func(p=None):\n",
    "    if p is not None:\n",
    "        return 10\n",
    "    else:\n",
    "        return 9\n",
    "print(func(), func('a'))"
   ]
  },
  {
   "cell_type": "code",
   "execution_count": null,
   "metadata": {},
   "outputs": [],
   "source": [
    "# 7. 日期和时间\n",
    "from datetime import datetime  # , date, time\n",
    "print(datetime(2021, 9, 20, 7))\n",
    "print(datetime.now())\n",
    "print(datetime.now().strftime('%m/%d/%Y %H:%M'))"
   ]
  },
  {
   "cell_type": "code",
   "execution_count": null,
   "metadata": {},
   "outputs": [],
   "source": [
    "# 8. 强类型\n",
    "# print('3' + 4)\n",
    "print('3' + str(4))\n",
    "print(int('3') + 4)\n",
    "print(type('3'), isinstance('3', int))"
   ]
  },
  {
   "cell_type": "markdown",
   "metadata": {},
   "source": [
    "# 1.2 控制流"
   ]
  },
  {
   "cell_type": "code",
   "execution_count": null,
   "metadata": {},
   "outputs": [],
   "source": [
    "# 9. if条件语句\n",
    "def func(p):\n",
    "    if not isinstance(p, int):\n",
    "        return 'not int'\n",
    "    # if p > 3 and p < 20:\n",
    "    if 3 < p < 20:\n",
    "        return 'in the range'\n",
    "    elif p in [3, 20]:\n",
    "        return 'on the border'\n",
    "    else:\n",
    "        return 'out the range'\n",
    "print(func(3))"
   ]
  },
  {
   "cell_type": "code",
   "execution_count": null,
   "metadata": {},
   "outputs": [],
   "source": [
    "# 10. for循环语句\n",
    "for i in 'Python':\n",
    "    print(i)\n",
    "    \n",
    "for i in ['Python', 'C++', 'Java', 'C#']:\n",
    "    print(i[:2])\n",
    "    if 'J' in i or i.lower() == 'java':\n",
    "        break"
   ]
  },
  {
   "cell_type": "code",
   "execution_count": null,
   "metadata": {},
   "outputs": [],
   "source": [
    "# 11. for循环语句2\n",
    "s = ''\n",
    "for i in range(0, 20, 2):\n",
    "    s += ', ' + str(i)\n",
    "print(s)\n",
    "\n",
    "lang = ['Python', 'C++', 'Java', 'C#']\n",
    "for i in range(len(lang)):\n",
    "    print(lang[i])"
   ]
  },
  {
   "cell_type": "code",
   "execution_count": null,
   "metadata": {},
   "outputs": [],
   "source": [
    "# 12. while循环语句\n",
    "x = 256\n",
    "total = 0\n",
    "while x > 0:\n",
    "    if total > 500:\n",
    "        break\n",
    "    total += x\n",
    "    x = x // 2\n",
    "print(total)"
   ]
  },
  {
   "cell_type": "code",
   "execution_count": null,
   "metadata": {},
   "outputs": [],
   "source": [
    "# 13. 三元表达式\n",
    "def func(n):\n",
    "    return 'hello' if n > 10 else 'world'\n",
    "print(func(9))"
   ]
  },
  {
   "cell_type": "code",
   "execution_count": null,
   "metadata": {},
   "outputs": [],
   "source": [
    "# 14. range类型\n",
    "print(list(range(10)))\n",
    "print(list(range(1, 11)))\n",
    "print(list(range(0, 30, 5)))\n",
    "print(list(range(0, 10, 3)))\n",
    "print(list(range(0, -10, -1)))\n",
    "print(list(range(0)))\n",
    "print(list(range(1, 0)))"
   ]
  },
  {
   "cell_type": "markdown",
   "metadata": {},
   "source": [
    "# 1.3 容器"
   ]
  },
  {
   "cell_type": "code",
   "execution_count": null,
   "metadata": {},
   "outputs": [],
   "source": [
    "# 15. 元组\n",
    "t = 4,\n",
    "t += 5, 6, 'abc', (1, 2), [(3, 4)]  # +=运算符\n",
    "t[5].append('a')\n",
    "print(t[3][2], t[4][0], t[5][1][0])\n",
    "s = (t + t[4]) * 2  # 数乘运算\n",
    "print(s)\n",
    "print(s.count('abc'), (1, 2, 1, 1, 1).count(1))"
   ]
  },
  {
   "cell_type": "code",
   "execution_count": null,
   "metadata": {},
   "outputs": [],
   "source": [
    "# 16. 列表\n",
    "s = [4]\n",
    "s.append('5s')\n",
    "print(s[1], len(s))\n",
    "s = s + list('s1s2s')  # 加法运算\n",
    "s += ['abc', 1, 3]  # 增强赋值\n",
    "# s *= 2\n",
    "s.insert(3, ('d', 3))\n",
    "print(s, len(s))\n",
    "s.remove('s')\n",
    "s.pop(len(s) - 1)\n",
    "print(s, len(s))\n",
    "s.extend([1, 2, (1, 2)])\n",
    "print(s, len(s))"
   ]
  },
  {
   "cell_type": "code",
   "execution_count": null,
   "metadata": {},
   "outputs": [],
   "source": [
    "# 17. 切片\n",
    "a = [1, 2, 3, 4, 5, 6, 7, 8]\n",
    "print(a[3:6], a[3:100], a[3:])\n",
    "print(a[::2], a[1::2], a[::-1])\n",
    "a[3:6] = 'a'\n",
    "print(a)"
   ]
  },
  {
   "cell_type": "code",
   "execution_count": null,
   "metadata": {},
   "outputs": [],
   "source": [
    "# 18. sort方法与sorted函数\n",
    "a = ['abc', [1, 2], (1,)]\n",
    "a.sort(key=len)  # 没有返回值,永久修改\n",
    "print(a)\n",
    "# print(sorted(a, key=len))"
   ]
  },
  {
   "cell_type": "code",
   "execution_count": null,
   "metadata": {},
   "outputs": [],
   "source": [
    "# 19. 字典\n",
    "d = {3: 'a', 2: 'b', 1: 'c'}\n",
    "print(d[1])\n",
    "d['a'] = 3\n",
    "d[(1, 2)] = 4\n",
    "d.pop(2)\n",
    "d.update({3: 'abc',  '3': 'ghi'})\n",
    "print(d, d.keys(), d.values())\n",
    "for i in d:  # 遍历键\n",
    "    print(i, d[i])\n",
    "print(dict(zip(range(5), reversed(range(5)))))"
   ]
  },
  {
   "cell_type": "code",
   "execution_count": null,
   "metadata": {},
   "outputs": [],
   "source": [
    "# 20. 字典默认值\n",
    "d = {3: 'a', 2: 'b', 1: 'c'}\n",
    "# print(d[4])\n",
    "print(d.get(4))\n",
    "print(d.get(4, 9), d)\n",
    "print(d.setdefault(5, 10), d)"
   ]
  },
  {
   "cell_type": "code",
   "execution_count": null,
   "metadata": {},
   "outputs": [],
   "source": [
    "# 21. 集合\n",
    "a = {1, 2, 3, 4, 5}\n",
    "b = {3, 4, 5, 6, 7, 8}\n",
    "print(a.union(b), a | b)\n",
    "print(a.intersection(b), a & b)\n",
    "print(a.difference(b), a - b)\n",
    "print(a.symmetric_difference(b), a ^ b)"
   ]
  },
  {
   "cell_type": "code",
   "execution_count": null,
   "metadata": {},
   "outputs": [],
   "source": [
    "# 22. 拆包\n",
    "a, b, c = 'a', 2, [3, 4]\n",
    "# a, b, c = ['a', 2, [3, 4]]\n",
    "# a, b, c = {'x': 'a', 'y': 2, 9: [3, 4]}\n",
    "print(a)\n",
    "print(b)\n",
    "print(c)\n",
    "\n",
    "a, b = b, a  # 交换变量\n",
    "print(a, b)\n",
    "\n",
    "a, *b = 'a', 2, [3, 4]  # 打包\n",
    "print(b)"
   ]
  },
  {
   "cell_type": "code",
   "execution_count": null,
   "metadata": {},
   "outputs": [],
   "source": [
    "# 23. 打散\n",
    "a = [1, 2, 'x']\n",
    "b = ['y', 3, (4, 5)]\n",
    "c = {6, 7, 'z'}\n",
    "d = '890'\n",
    "print([0, *a, *b, *c, *d, *range(11, 13)])\n",
    "\n",
    "numbers = {\"one\": 1, \"two\": 2, \"three\": 3}\n",
    "letters = {\"a\": \"A\", \"two\": \"B\", \"c\": \"C\"}\n",
    "combination = {**numbers, **letters}\n",
    "combination"
   ]
  },
  {
   "cell_type": "code",
   "execution_count": null,
   "metadata": {},
   "outputs": [],
   "source": [
    "# 24. for循环中的拆包\n",
    "sales = [(\"Pencil\", 0.22, 1500), (\"Notebook\", 1.30, 550), (\"Eraser\", 0.75, 1000)]\n",
    "for product, price, sold_units in sales:\n",
    "    print(f\"Income for {product} is: {price * sold_units}\")\n",
    "    \n",
    "    \n",
    "data = [((1, 2), 2), ((2, 3), 3)]\n",
    "for (a, b), c in data:\n",
    "    print(a, b, c)"
   ]
  },
  {
   "cell_type": "code",
   "execution_count": null,
   "metadata": {},
   "outputs": [],
   "source": [
    "# 25. 推导式\n",
    "strings = ['a', 'as', 'bat', 'car', 'dove', 'python']\n",
    "print([x.upper() for x in strings if len(x) > 2])\n",
    "print({val: index for index, val in enumerate(strings)})\n",
    "print({len(x) for x in strings})\n",
    "print(list(map(len, strings)))"
   ]
  },
  {
   "cell_type": "code",
   "execution_count": null,
   "metadata": {},
   "outputs": [],
   "source": [
    "# 26. 推导式2: 嵌套推导式\n",
    "strings = [['John', 'Emily', 'Michael', 'Mary', 'Steven'], ['Maria', 'Juan', 'Javier'], ['Natalia', 'Pilar']]\n",
    "print([name for group in strings for name in group if name.count('e') >= 2])"
   ]
  },
  {
   "cell_type": "markdown",
   "metadata": {},
   "source": [
    "# 1.4 一切皆对象"
   ]
  },
  {
   "cell_type": "code",
   "execution_count": null,
   "metadata": {},
   "outputs": [],
   "source": [
    "# 27. 对象及其引用: 赋值即引用\n",
    "a = 3  # 变量a是数值对象3的引用\n",
    "b = a  # 变量b也是数值对象3的引用\n",
    "print(id(a), id(b))\n",
    "a = 4  # a是对象4的引用\n",
    "print(id(a), id(b))"
   ]
  },
  {
   "cell_type": "code",
   "execution_count": null,
   "metadata": {},
   "outputs": [],
   "source": [
    "# 28. 对象及其引用2\n",
    "a = [1, 2, 3]\n",
    "b = a  # a,b是列表对象的引用\n",
    "a.append(4)  # 列表对象发生改变\n",
    "print(a, b, id(a), id(b))"
   ]
  },
  {
   "cell_type": "code",
   "execution_count": null,
   "metadata": {},
   "outputs": [],
   "source": [
    "# 29. 对象及其引用3\n",
    "c = [1, 2, 3]\n",
    "d = [1, 2, 3]  # 两个不同的对象\n",
    "print(id(c), id(d))\n",
    "print(c == d, c is d)"
   ]
  },
  {
   "cell_type": "code",
   "execution_count": null,
   "metadata": {},
   "outputs": [],
   "source": [
    "# 30. 对象及其引用4\n",
    "c = [1, 2, 3]\n",
    "print(id(c))\n",
    "c = [1, 2, 3]  # 重新赋值\n",
    "print(id(c))"
   ]
  },
  {
   "cell_type": "code",
   "execution_count": null,
   "metadata": {},
   "outputs": [],
   "source": [
    "# 31. 特殊的small_ints对象，[-5,256]间的整数\n",
    "a = 256\n",
    "b = 256\n",
    "print(id(a), id(b), a is b)"
   ]
  },
  {
   "cell_type": "code",
   "execution_count": null,
   "metadata": {},
   "outputs": [],
   "source": [
    "# 32. 浅拷贝与深拷贝\n",
    "import copy\n",
    "a = [1, 2, [3, 4]]\n",
    "b = a  # 引用\n",
    "c = a[:]  # 浅拷贝\n",
    "d = copy.deepcopy(a)  # 深拷贝\n",
    "print(id(a), id(b), id(c), id(d))\n",
    "a.append(5)  # 改变原对象\n",
    "print(a, b, c, d)\n",
    "a[2].append(9)  # 改变原对象的嵌套子对象\n",
    "print(a, b, c, d)"
   ]
  },
  {
   "cell_type": "code",
   "execution_count": null,
   "metadata": {},
   "outputs": [],
   "source": [
    "# 33. 可变对象的增强赋值\n",
    "%xdel a\n",
    "a = [1, 2, 3]\n",
    "print(a, id(a))\n",
    "a = a + [4]  # 列表加法\n",
    "print(a, id(a))\n",
    "a += [5]  # 增强赋值\n",
    "print(a, id(a))\n",
    "a.append(6)\n",
    "print(a, id(a))\n",
    "a.extend([7])\n",
    "print(a, id(a))"
   ]
  },
  {
   "cell_type": "markdown",
   "metadata": {},
   "source": [
    "# 1.5 函数"
   ]
  },
  {
   "cell_type": "code",
   "execution_count": null,
   "metadata": {},
   "outputs": [],
   "source": [
    "# 34. 函数与返回值\n",
    "def func():\n",
    "    h = 11\n",
    "    l = 100\n",
    "    w = 'abc'\n",
    "    a = [1, 2]\n",
    "    n = 33\n",
    "    return h, l, w, a, n\n",
    "a, _, c, _, d = func()\n",
    "# a, *_, c, d = func()\n",
    "print(a, c, d)"
   ]
  },
  {
   "cell_type": "code",
   "execution_count": null,
   "metadata": {},
   "outputs": [],
   "source": [
    "# 35. 位置参数与关键字参数\n",
    "# def func(x: int, y: int, z=1.5) -> float:\n",
    "def func(x, y, z=1.5):\n",
    "    if z > 1:\n",
    "        return z * (x + y)\n",
    "    else:\n",
    "        return z / (x + y)\n",
    "print(func(5, 6, z=0.7))\n",
    "print(func(3.14, 7, 3.5))\n",
    "print(func(10, 20))\n",
    "print(func(y=6, x=5, z =7))"
   ]
  },
  {
   "cell_type": "code",
   "execution_count": null,
   "metadata": {},
   "outputs": [],
   "source": [
    "# 36. 参数传递即引用\n",
    "a = [1, 2, 3]\n",
    "def func(p):\n",
    "    p.append(4)\n",
    "func(a)\n",
    "print(a)"
   ]
  },
  {
   "cell_type": "code",
   "execution_count": null,
   "metadata": {},
   "outputs": [],
   "source": [
    "# 37. 避免可变对象作为默认值\n",
    "def bad_func(a, b=[]):\n",
    "    # 返回一个列表，若b未设置，将a作为第一个元素\n",
    "    b.append(a)\n",
    "    print(b)\n",
    "bad_func(1)\n",
    "bad_func(2)  # 每次调用结果不固定，受上一次调用影响\n",
    "\n",
    "def func(a, b=None):  # 使用不可变对象作为默认值\n",
    "    if b is None:\n",
    "        b = []\n",
    "    b.append(a)\n",
    "    print(b)\n",
    "func(1)\n",
    "func(2)"
   ]
  },
  {
   "cell_type": "code",
   "execution_count": null,
   "metadata": {},
   "outputs": [],
   "source": [
    "# 38. 函数: 变量的命名空间与作用域\n",
    "a = 3\n",
    "def func1():\n",
    "    print(a)  # a:全局命名空间\n",
    "    \n",
    "def func2():\n",
    "    print(a)\n",
    "    a = 4  # a:局部命名空间，报错!\n",
    "    \n",
    "def func3():\n",
    "    a = 4\n",
    "    print(a)  # a:局部命名空间\n",
    "\n",
    "def func4():\n",
    "    a += 4  # a:局部命名空间，报错!\n",
    "    print(a)\n",
    "    \n",
    "def func5():\n",
    "    global a\n",
    "    a += 4  # a:全局命名空间\n",
    "    print(a)\n",
    "    \n",
    "b = [1, 2, 3]\n",
    "def func6():\n",
    "    b.append(4)  # b:全局命名空间\n",
    "    print(b)\n",
    "    \n",
    "def func7():\n",
    "    b += [4]  # b:局部命名空间，报错!\n",
    "    print(b)\n",
    "    \n",
    "def func8():\n",
    "    c = 3\n",
    "    def func9():\n",
    "        #nonlocal c  # 获得最近的外层命名空间中的变量\n",
    "        #c += 1\n",
    "        d = c  # func9命名空间中的局部变量\n",
    "        print(d)\n",
    "    func9()\n",
    "    print(c)\n",
    "\n",
    "#func3(); print(a)\n",
    "#func5(); print(a)\n",
    "func1()"
   ]
  },
  {
   "cell_type": "code",
   "execution_count": null,
   "metadata": {},
   "outputs": [],
   "source": [
    "# 39. 匿名函数\n",
    "square = lambda x: x * x\n",
    "print(square(5))\n",
    "# print((lambda x: x * x)(5))"
   ]
  },
  {
   "cell_type": "code",
   "execution_count": null,
   "metadata": {},
   "outputs": [],
   "source": [
    "# 40. 高阶函数：函数作为对象\n",
    "import re\n",
    "provinces = [' Shaanxi', 'Beijing#?', '######Shanghai', 'Shan?????dong###']\n",
    "\n",
    "def func(s):\n",
    "    return re.sub('[ #?]', '', s)\n",
    "\n",
    "def pfunc(f):\n",
    "    for p in provinces:\n",
    "        print(f(p))\n",
    "\n",
    "pfunc(func)  # 函数作为参数\n",
    "\n",
    "print([func(t) for t in provinces])  #在推导式中使用函数\n",
    "\n",
    "for x in map(func, provinces):  # map高阶函数\n",
    "    print(x)"
   ]
  },
  {
   "cell_type": "code",
   "execution_count": null,
   "metadata": {},
   "outputs": [],
   "source": [
    "# 41. 闭包\n",
    "def f():\n",
    "    s = []\n",
    "    def g(a):\n",
    "        s.append(a)\n",
    "        return sum(s) / len(s)\n",
    "    return g\n",
    "\n",
    "# f()(3)\n",
    "avg = f()\n",
    "print(avg(1))\n",
    "print(avg(5))\n",
    "print(avg(9))"
   ]
  },
  {
   "cell_type": "markdown",
   "metadata": {},
   "source": [
    "# 1.6 迭代器与生成器"
   ]
  },
  {
   "cell_type": "code",
   "execution_count": null,
   "metadata": {},
   "outputs": [],
   "source": [
    "# 42. 理解循环: 迭代器\n",
    "import dis\n",
    "\n",
    "def func():\n",
    "    for word in ['hello', 'world', '!']:\n",
    "        print(word)\n",
    "    else:\n",
    "        print('End')\n",
    "\n",
    "dis.dis(func)"
   ]
  },
  {
   "cell_type": "code",
   "execution_count": null,
   "metadata": {},
   "outputs": [],
   "source": [
    "# 43. 迭代器\n",
    "foo = iter(['ab', 1, ['x', 'y']])\n",
    "print(type(foo))\n",
    "print(next(foo))\n",
    "print(next(foo))\n",
    "print(next(foo))\n",
    "# print(next(foo))\n",
    "print(list(foo))  # 空列表"
   ]
  },
  {
   "cell_type": "code",
   "execution_count": null,
   "metadata": {},
   "outputs": [],
   "source": [
    "# 44. 生成器\n",
    "def func():\n",
    "    yield 3\n",
    "    yield 4\n",
    "    yield 5\n",
    "    \n",
    "foo = func()\n",
    "print(type(foo))\n",
    "print(next(foo))\n",
    "print(next(foo))\n",
    "print(next(foo))\n",
    "# print(next(foo))"
   ]
  },
  {
   "cell_type": "code",
   "execution_count": null,
   "metadata": {},
   "outputs": [],
   "source": [
    "# 45. 打印斐波拉契数列\n",
    "def fib(n):  # 普通函数\n",
    "    i, a, b = 0, 0, 1\n",
    "    while i < n:\n",
    "        print(b)\n",
    "        a, b = b, a + b\n",
    "        i += 1\n",
    "fib(10)\n",
    "\n",
    "def fib2(n):  # 生成器\n",
    "    i, a, b = 0, 0, 1\n",
    "    while i < n:\n",
    "        yield b\n",
    "        a, b = b, a + b\n",
    "        i += 1\n",
    "print(list(fib2(10)))"
   ]
  },
  {
   "cell_type": "code",
   "execution_count": null,
   "metadata": {},
   "outputs": [],
   "source": [
    "# 46. 生成器表达式\n",
    "(i * i for i in range(10))\n",
    "# (i * i for i in range(10) if i % 2 == 0)"
   ]
  },
  {
   "cell_type": "markdown",
   "metadata": {},
   "source": [
    "# 1.7 常用内置序列函数和高阶函数"
   ]
  },
  {
   "cell_type": "code",
   "execution_count": null,
   "metadata": {},
   "outputs": [],
   "source": [
    "# 47. sorted\n",
    "from operator import itemgetter, attrgetter\n",
    "data = [('red', 1), ('blue', 1), ('red', 2), ('blue', 2)]\n",
    "print(sorted(data, key=itemgetter(0)))"
   ]
  },
  {
   "cell_type": "code",
   "execution_count": null,
   "metadata": {},
   "outputs": [],
   "source": [
    "# 48. reversed\n",
    "print(reversed(range(10)))\n",
    "for i in reversed(range(10)):\n",
    "    print(i)\n",
    "    \n",
    "data = list(range(10))\n",
    "data.reverse()  # 列表的reverse方法\n",
    "print(data)"
   ]
  },
  {
   "cell_type": "code",
   "execution_count": null,
   "metadata": {},
   "outputs": [],
   "source": [
    "# 49. enumerate\n",
    "seasons = ['Spring', 'Summer', 'Fall', 'Winter']\n",
    "print(list(enumerate(seasons)))\n",
    "print(list(enumerate(seasons, start=1)))\n",
    "\n",
    "def func(sequence, start=0):  # 常规写法\n",
    "    n = start\n",
    "    for elem in sequence:\n",
    "        yield n, elem\n",
    "        n += 1\n",
    "print(list(func(seasons)))"
   ]
  },
  {
   "cell_type": "code",
   "execution_count": null,
   "metadata": {},
   "outputs": [],
   "source": [
    "# 50. zip\n",
    "print(list(zip([1, 2], (3, 4))))\n",
    "print(list(zip(['a', 'b'], ('c', 'd', 'e'), ['f', 'g', 'h', 'i'])))  # 第一个对象耗尽\n",
    "\n",
    "p = [('x', 0), ('y', 1), ('z', 2)]\n",
    "print(list(zip(*p)))  # \"转置\""
   ]
  },
  {
   "cell_type": "code",
   "execution_count": null,
   "metadata": {},
   "outputs": [],
   "source": [
    "# 51. map\n",
    "print(list(map(lambda x: x ** 2, [1, 2, 3, 4, 5])))\n",
    "print(list(map(lambda x, y: x + 3 * y, [1, 3, 5, 7], [2, 4, 6, 8, 10])))  # 第一个对象耗尽"
   ]
  },
  {
   "cell_type": "code",
   "execution_count": null,
   "metadata": {},
   "outputs": [],
   "source": [
    "# 52. filter\n",
    "import math\n",
    "def is_sqr(x):\n",
    "    return math.sqrt(x) % 1 == 0\n",
    " \n",
    "print(list(filter(is_sqr, range(1, 101))))\n",
    "print(list(filter(None, range(-3, 3))))  # 0不为真，等价于bool"
   ]
  },
  {
   "cell_type": "code",
   "execution_count": null,
   "metadata": {},
   "outputs": [],
   "source": [
    "# 53. reduce\n",
    "from functools import reduce\n",
    "reduce(lambda x, y: x + y, [1, 2, 3, 4, 5])\n",
    "#reduce(lambda x, y: x + y, [1, 2, 3, 4, 5], 10)"
   ]
  },
  {
   "cell_type": "code",
   "execution_count": null,
   "metadata": {},
   "outputs": [],
   "source": [
    "# 53. reduce（一个复杂的例子仅了解）\n",
    "from functools import reduce\n",
    "scientists =({'name':'Alan Turing', 'age':105, 'gender':'male'},\n",
    "             {'name':'Dennis Ritchie', 'age':76, 'gender':'male'},\n",
    "             {'name':'Ada Lovelace', 'age':202, 'gender':'female'},\n",
    "             {'name':'Frances E. Allen', 'age':84, 'gender':'female'})\n",
    "grouped = reduce(lambda acc, val: {**acc, **{val['gender']: acc[val['gender']] + [val['name']]}},\n",
    "                 scientists, {'male':[], 'female':[]})\n",
    "print(grouped)"
   ]
  },
  {
   "cell_type": "markdown",
   "metadata": {},
   "source": [
    "# 1.8 类"
   ]
  },
  {
   "cell_type": "code",
   "execution_count": null,
   "metadata": {},
   "outputs": [],
   "source": [
    "# 54. 变量与函数的壳\n",
    "class MyClass():\n",
    "    \"\"\"Class as a wrapper\"\"\"    \n",
    "    i = 12345\n",
    "    \n",
    "    def f():\n",
    "        return 'Hello World!'\n",
    "    \n",
    "print(MyClass.__doc__)\n",
    "MyClass.i, MyClass.f()"
   ]
  },
  {
   "cell_type": "code",
   "execution_count": null,
   "metadata": {},
   "outputs": [],
   "source": [
    "# 55. 实例化\n",
    "class MyClass2():\n",
    "    \"\"\"A simple example class\"\"\"\n",
    "    def __init__(self, name):  # 构造方法\n",
    "        self.num = 2\n",
    "        self.name = name\n",
    "       \n",
    "    i = 12345\n",
    "    \n",
    "    def f(self):\n",
    "        return 'Hello World!'\n",
    "    \n",
    "x = MyClass2('example')\n",
    "x.data = []  # 对象额外定义的变量\n",
    "x.i, x.num, x.name, x.data, x.f()"
   ]
  },
  {
   "cell_type": "code",
   "execution_count": null,
   "metadata": {},
   "outputs": [],
   "source": [
    "# 56. 类变量与实例变量\n",
    "class Dog:\n",
    "    kind = 'canine'\n",
    "    def __init__(self, name):\n",
    "        self.name = name\n",
    "        self.tricks = []  # 可变对象不作为类变量\n",
    "        self.kind = 'dog'  # 重名\n",
    "        \n",
    "    def add_trick(self, trick):\n",
    "        self.tricks.append(trick)\n",
    "        \n",
    "d = Dog('Fido')\n",
    "e = Dog('Buddy')\n",
    "d.add_trick('roll over')\n",
    "e.add_trick('play dead')\n",
    "Dog.kind, d.kind, d.name, d.tricks, e.kind, e.name, e.tricks"
   ]
  },
  {
   "cell_type": "code",
   "execution_count": null,
   "metadata": {},
   "outputs": [],
   "source": [
    "# 57. 继承\n",
    "class People:\n",
    "    def __init__(self, n='', a=0, w=0):\n",
    "        self.name = n\n",
    "        self.age = a\n",
    "        self.weight = w\n",
    "    \n",
    "    def speak(self):\n",
    "        print(f'{self.name} says: I am {self.age}')\n",
    "        \n",
    "\n",
    "class Student(People):\n",
    "    def __init__(self, n='', a=0, w=0, g=''):\n",
    "        super().__init__(n, a, w)\n",
    "        #People.__init__(self, n, a, w)\n",
    "        self.grade = g\n",
    "    \n",
    "    def speak(self):  # 方法重写\n",
    "        #super().speak()\n",
    "        People.speak(self)\n",
    "        print(f'and I am in grade {self.grade}')\n",
    "        \n",
    "        \n",
    "s = Student('Ken', 10, 60, 3)\n",
    "s.speak()    "
   ]
  },
  {
   "cell_type": "code",
   "execution_count": null,
   "metadata": {},
   "outputs": [],
   "source": [
    "# 58. 私有变量\n",
    "class A:\n",
    "    def __init__(self):\n",
    "        self.__var = 7\n",
    "    \n",
    "    def __f(self):\n",
    "        print('f is private')\n",
    "        \n",
    "a = A()\n",
    "a._A__f()  # 名称转写\n",
    "a._A__var"
   ]
  },
  {
   "cell_type": "markdown",
   "metadata": {},
   "source": [
    "# 1.9 其他"
   ]
  },
  {
   "cell_type": "code",
   "execution_count": null,
   "metadata": {},
   "outputs": [],
   "source": [
    "# 59. try语句\n",
    "def func(x, y):\n",
    "    try:\n",
    "        assert(y < 10)  # 断言\n",
    "        if x > 10:  # 手动抛出异常\n",
    "            raise ValueError('x is too large')\n",
    "        if x < 5:\n",
    "            raise ValueError('x is too small')\n",
    "        result = x / y  # 可能触发除0异常\n",
    "    except AssertionError:\n",
    "        print('assert error')\n",
    "    except ValueError as verr:\n",
    "        print('.'.join(verr.args))\n",
    "    except ZeroDivisionError:\n",
    "        print('division by zero')\n",
    "    except:  # 处理所有未匹配的异常\n",
    "        print('Unexpected Error')\n",
    "    else:\n",
    "        print('result is', result)\n",
    "    finally:\n",
    "        print('executing finally clause')\n",
    "\n",
    "print('1. '); func(5, 3)\n",
    "print('\\n2. '); func(5, 0)\n",
    "print('\\n3. '); func(5, 10)\n",
    "print('\\n4. '); func(20, 3)\n",
    "print('\\n5. '); func(1, 3)\n",
    "print('\\n6. '); func('a', 9)"
   ]
  },
  {
   "cell_type": "code",
   "execution_count": null,
   "metadata": {},
   "outputs": [],
   "source": [
    "# 60. 文件操作1\n",
    "f = open('foo.txt', 'w')\n",
    "print(type(f))\n",
    "f.write('Hello World')\n",
    "f.close()\n",
    "\n",
    "!cat foo.txt"
   ]
  },
  {
   "cell_type": "code",
   "execution_count": null,
   "metadata": {},
   "outputs": [],
   "source": [
    "# 61. 文件操作2\n",
    "f = open('foo.txt')\n",
    "# print(f.readline())\n",
    "# print(f.readlines())\n",
    "f.seek(3)\n",
    "for line in f:\n",
    "    print(line)\n",
    "print(f.tell())\n",
    "f.close()"
   ]
  },
  {
   "cell_type": "code",
   "execution_count": null,
   "metadata": {},
   "outputs": [],
   "source": [
    "# 62. with语句\n",
    "with open('foo.txt') as f:    \n",
    "    print(f.read(9))\n",
    "        \n",
    "f\n",
    "# f.read(5)"
   ]
  }
 ],
 "metadata": {
  "kernelspec": {
   "display_name": "Python 3",
   "language": "python",
   "name": "python3"
  },
  "language_info": {
   "codemirror_mode": {
    "name": "ipython",
    "version": 3
   },
   "file_extension": ".py",
   "mimetype": "text/x-python",
   "name": "python",
   "nbconvert_exporter": "python",
   "pygments_lexer": "ipython3",
   "version": "3.8.11"
  }
 },
 "nbformat": 4,
 "nbformat_minor": 4
}
