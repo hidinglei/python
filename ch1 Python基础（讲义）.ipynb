{
 "cells":[
  {
   "cell_type":"markdown",
   "source":[
    "# 1.1 基本类型"
   ],
   "attachments":{
    
   },
   "metadata":{
    "datalore":{
     "node_id":"zpUIGR0f1rR6JoHChrriXW",
     "type":"MD",
     "hide_input_from_viewers":false,
     "hide_output_from_viewers":false
    }
   }
  },
  {
   "cell_type":"code",
   "source":[
    "# 1. 数值类型int和float\n",
    "ival = 16777216\n",
    "print(ival ** 6)  # 任意大小的整数\n",
    "print(3 \/ 2, 4 \/ 2, 3 \/\/ 2)  # 除运算符与整除运算符\n",
    "print(ival ** 6 \/ 1)  # 除运算符总是返回浮点数"
   ],
   "execution_count":4,
   "outputs":[
    {
     "name":"stdout",
     "text":[
      "22300745198530623141535718272648361505980416\n",
      "1.5 2.0 1\n",
      "2.2300745198530623e+43\n"
     ],
     "output_type":"stream"
    }
   ],
   "metadata":{
    "datalore":{
     "node_id":"T0R4vgEDHwNwBDnZatBGIY",
     "type":"CODE",
     "hide_input_from_viewers":false,
     "hide_output_from_viewers":false
    }
   }
  },
  {
   "cell_type":"code",
   "source":[
    "# 2. 基本类型也是对象\n",
    "a = 3\n",
    "print(a.imag)  # 属性，返回虚部\n",
    "print(a.bit_length())  # 方法，返回二进制长度\n",
    "\n",
    "# 延伸1: 标准库里的类型与自定义的类都是对象\n",
    "class X:\n",
    "    def __init__(self, real):\n",
    "        self.real = real\n",
    "        self.imag = 0\n",
    "    \n",
    "    def bit_length(self):\n",
    "        return len(bin(self.real)) - 2  # bin?\n",
    "    \n",
    "x = int(9999)  # 等价于 x = 9999，可以将int看作一个和X一样的类\n",
    "y = X(9999)\n",
    "print(x.real, y.real, x.bit_length(), y.bit_length())\n",
    "\n",
    "\n",
    "# 延伸2: 变量a只是对象的一个标签，即引用\n",
    "print((3).real)"
   ],
   "execution_count":34,
   "outputs":[
    {
     "name":"stdout",
     "text":[
      "0\n",
      "2\n",
      "9999 9999 14 14\n",
      "3\n"
     ],
     "output_type":"stream"
    }
   ],
   "metadata":{
    "datalore":{
     "node_id":"pXMZmfCZKwNQFkLkcrc6CC",
     "type":"CODE",
     "hide_input_from_viewers":false,
     "hide_output_from_viewers":false
    }
   }
  },
  {
   "cell_type":"code",
   "source":[
    "# 延伸：整数对象占用的内存空间\n",
    "import sys\n",
    "print(sys.getsizeof(0))  # 整数0占用24字节\n",
    "print(sys.getsizeof(1))  # 1~2^30-1占用28字节\n",
    "print(sys.getsizeof(1073741824))  # 2^30，每2^30个数增加4个字节\n",
    "print(sys.getsizeof(1073741824.))  # float固定24字节"
   ],
   "execution_count":7,
   "outputs":[
    {
     "name":"stdout",
     "text":[
      "24\n",
      "28\n",
      "32\n"
     ],
     "output_type":"stream"
    },
    {
     "data":{
      "text\/plain":[
       "24"
      ]
     },
     "metadata":{
      
     },
     "output_type":"display_data"
    }
   ],
   "metadata":{
    "datalore":{
     "node_id":"WaSizF5vbzOoavPQhmBG06",
     "type":"CODE",
     "hide_input_from_viewers":false,
     "hide_output_from_viewers":false
    }
   }
  },
  {
   "cell_type":"code",
   "source":[
    "# 延伸：进制\n",
    "print(0xa + 0o7 + 0Xb + 0xC + 0O3 + 0b10 + 0B1101)  # X, O, B，以及ABCDEF不区分大小写\n",
    "print(hex(100))  # 注意返回字符串，因为0x64和100是同样的对象\n",
    "print(oct(100))\n",
    "print(bin(100))"
   ],
   "execution_count":20,
   "outputs":[
    {
     "name":"stdout",
     "text":[
      "58\n",
      "0x64\n",
      "0o144\n",
      "0b1100100\n"
     ],
     "output_type":"stream"
    }
   ],
   "metadata":{
    "datalore":{
     "node_id":"u0uST9wh5e10UyUmv0mtTt",
     "type":"CODE",
     "hide_input_from_viewers":false,
     "hide_output_from_viewers":false
    }
   }
  },
  {
   "cell_type":"code",
   "source":[
    "# 3. 字符串类型\n",
    "a = 'one way of writing a string'  # 单引号字符串\n",
    "b = \"another way 'use single quotes'.\"  # 双引号字符串\n",
    "c = \"\"\"third way\n",
    "a longer string that\n",
    "spans multiple lines\n",
    "\"\"\"  # 多行字符串\n",
    "d = r'\\this\\has\\no\\special\\characters\\x48'  # r字符串\n",
    "print('\\n'.join([a, b, c, d]))  # join方法将字符串插入到各元素之间，比循环更简洁"
   ],
   "execution_count":33,
   "outputs":[
    {
     "name":"stdout",
     "text":[
      "one way of writing a string\n",
      "another way 'use single quotes'.\n",
      "third way\n",
      "a longer string that\n",
      "spans multiple lines\n",
      "\n",
      "\this\\has\n",
      "o\\special\\charactersH\n"
     ],
     "output_type":"stream"
    }
   ],
   "metadata":{
    "datalore":{
     "node_id":"QQddu9ehCbMWfodOCJfvRW",
     "type":"CODE",
     "hide_input_from_viewers":false,
     "hide_output_from_viewers":false
    }
   }
  },
  {
   "cell_type":"code",
   "source":[
    "# 随堂练习：字符串操作\n",
    "print('Hello' + ' ' + 'World')  # 字符串合并\n",
    "print('+' * 5)  # 字符串重复\n",
    "print('Hello World'.upper())  # 字符串大写，lower小写\n",
    "print('Hello World'.find('o'))  # 字符串查找\n",
    "print('Hello World'.count('l'))  # 字符串计数\n",
    "print('Hello World'.replace('ll', 'x'))  # 字符串替换\n",
    "print(len('Hello World'))  # 字符串长度"
   ],
   "execution_count":27,
   "outputs":[
    {
     "name":"stdout",
     "text":[
      "Hello World\n",
      "+++++\n",
      "11\n",
      "HELLO WORLD\n",
      "4\n",
      "3\n",
      "Hexo World\n"
     ],
     "output_type":"stream"
    }
   ],
   "metadata":{
    "datalore":{
     "node_id":"qHOkhRHf31mflxXlTGhhEZ",
     "type":"CODE",
     "hide_input_from_viewers":false,
     "hide_output_from_viewers":false
    }
   }
  },
  {
   "cell_type":"code",
   "source":[
    "# 4. 字符串索引和切片\n",
    "s = 'Hello World'\n",
    "print(s[0], s[4], s[-1])  # 索引\n",
    "print(s[1:4])  # 切片\n",
    "print(s[:3])\n",
    "print('Hello World'[-2:])"
   ],
   "execution_count":5,
   "outputs":[
    {
     "name":"stdout",
     "text":[
      "H o d\n",
      "ell\n",
      "Hel\n",
      "ld\n"
     ],
     "output_type":"stream"
    }
   ],
   "metadata":{
    "datalore":{
     "node_id":"BFPCXVih5aUl1ZFMAoHyq6",
     "type":"CODE",
     "hide_input_from_viewers":false,
     "hide_output_from_viewers":false
    }
   }
  },
  {
   "cell_type":"code",
   "source":[
    "# 5. 字符串格式化\n",
    "print('%.2f %s are worth US$%d' % (4.5560, 'Argentine Pesos', 1))  # %格式化（printf风格）\n",
    "print('{:.2f} {:s} are worth US${:d}'.format(4.5560, 'Argentine Pesos', 1))  # format格式化\n",
    "\n",
    "a = 4.5560\n",
    "b = 'Argentine Pesos'  # 阿根廷比索\n",
    "c = 1\n",
    "print(f'{a:.2f} {b} are worth US${c:d}')  # f字符串\n",
    "\n",
    "#延伸1：%格式化自定义名称（字典形式）\n",
    "print('%(num1).2f %(name)s are worth US$%(num2)d' % {'num1': 4.5560, 'num2': 1, 'name': 'Argentine Pesos'})\n",
    "\n",
    "#延伸2：format格式化自定义顺序\n",
    "print('{1:.2f} {0:s} are worth US${2:.0f}'.format('Argentine Pesos', 4.5560, 1))\n",
    "\n",
    "#延伸3：format格式化自定义名称（字典形式）\n",
    "print('{num1:.2f} {name} are worth US${num2:d}'.format(**{'num1': 4.5560, 'num2': 1, 'name': 'Argentine Pesos'}))\n",
    "print('{num1:.2f} {name} are worth US${num2:d}'.format_map({'num1': 4.5560, 'num2': 1, 'name': 'Argentine Pesos'}))\n",
    "\n",
    "#延伸4：format格式化自定义名称（参数形式）\n",
    "print('{num1:.2f} {name} are worth US${num2:d}'.format(num1=4.5560, num2=1, name='Argentine Pesos'))\n",
    "\n",
    "#延伸5：格式类型操作符\n",
    "f'{1.2:>+10.3f}'  # 右对齐，显示正负号"
   ],
   "execution_count":21,
   "outputs":[
    {
     "name":"stdout",
     "text":[
      "4.56 Argentine Pesos are worth US$1\n",
      "4.56 Argentine Pesos are worth US$1\n",
      "4.56 Argentine Pesos are worth US$1\n",
      "4.56 Argentine Pesos are worth US$1\n",
      "4.56 Argentine Pesos are worth US$1\n",
      "4.56 Argentine Pesos are worth US$1\n",
      "4.56 Argentine Pesos are worth US$1\n",
      "4.56 Argentine Pesos are worth US$1\n"
     ],
     "output_type":"stream"
    },
    {
     "data":{
      "text\/plain":[
       "'    +1.200'"
      ]
     },
     "metadata":{
      
     },
     "output_type":"display_data"
    }
   ],
   "metadata":{
    "datalore":{
     "node_id":"0fZMGQi1CgKwJVIzOldJSy",
     "type":"CODE",
     "hide_input_from_viewers":false,
     "hide_output_from_viewers":false
    }
   }
  },
  {
   "cell_type":"code",
   "source":[
    "# 6. Python对象\n",
    "print(type(3))  # int类型的一个实例\n",
    "print(type(int))  # 类型为type\n",
    "print(type((3).imag))  # 属性也是一个对象\n",
    "print(type((3).bit_length))  # 方法也是一个对象\n",
    "print(type((3).bit_length()))  # 方法返回值的类型\n",
    "\n",
    "# 延伸1：自定义类\n",
    "class X:\n",
    "    ...\n",
    "\n",
    "print(type(X))  # 类的类型为type\n",
    "print(type(X()))  # 类的实例的类型\n",
    "\n",
    "# 延伸2：形式上，可以使用点号无限延伸\n",
    "(3).real.real.real.real.real.real"
   ],
   "execution_count":49,
   "outputs":[
    {
     "name":"stdout",
     "text":[
      "<class 'int'>\n",
      "<class 'type'>\n",
      "<class 'int'>\n",
      "<class 'builtin_function_or_method'>\n",
      "<class 'int'>\n",
      "<class 'type'>\n",
      "<class '__main__.X'>\n"
     ],
     "output_type":"stream"
    },
    {
     "data":{
      "text\/plain":[
       "3"
      ]
     },
     "metadata":{
      
     },
     "output_type":"display_data"
    }
   ],
   "metadata":{
    "datalore":{
     "node_id":"3If6NwMjv7jlWMvuRzjSHm",
     "type":"CODE",
     "hide_input_from_viewers":false,
     "hide_output_from_viewers":false
    }
   }
  },
  {
   "cell_type":"code",
   "source":[
    "# 7. 魔术方法与魔术属性\n",
    "print('abc'.__class__)  # __class__属性等价于 type('abc')\n",
    "print(abs.__call__(-10))  # 等价于 abs(-10)\n",
    "\n",
    "# 运算符\n",
    "print((3).__add__(4))  # 等价于 3+4\n",
    "print('ab'.__add__('cde'))  # 等价于 'ab' + 'cde'\n",
    "print('abc'.__mul__(3))  # 等价于 'abc' * 3\n",
    "\n",
    "# 内置函数\n",
    "print('abc'.__len__())  # 等价于 len('abc')\n",
    "# print((3).__len__())  # 数值对象未定义__len__方法，不可求长度\n",
    "\n",
    "print('abc'.__hash__())  # 等价于 hash('abc)\n",
    "#print([1, 2].__hash__())  # 列表对象未定义__hash__方法，不可哈希"
   ],
   "execution_count":6,
   "outputs":[
    {
     "name":"stdout",
     "text":[
      "<class 'str'>\n",
      "10\n",
      "7\n",
      "abcde\n",
      "abcabcabc\n",
      "3\n",
      "6888072792500896622\n"
     ],
     "output_type":"stream"
    }
   ],
   "metadata":{
    "datalore":{
     "node_id":"7aDUDcsXW1IqKRM3HZ4g2r",
     "type":"CODE",
     "hide_input_from_viewers":false,
     "hide_output_from_viewers":false
    }
   }
  },
  {
   "cell_type":"code",
   "source":[
    "# 8. 内置方法\n",
    "__builtins__.print('Hello World')\n",
    "\n",
    "# 延伸\n",
    "#dir(__builtins__)  # 查看所有的内置方法和属性\n",
    "#vars(__builtins__)  # 查看所有的内置方法、属性及属性的值"
   ],
   "execution_count":12,
   "outputs":[
    {
     "name":"stdout",
     "text":[
      "Hello World\n"
     ],
     "output_type":"stream"
    }
   ],
   "metadata":{
    "datalore":{
     "node_id":"iBrnkB6nQLZvLkOkSlU1Ct",
     "type":"CODE",
     "hide_input_from_viewers":false,
     "hide_output_from_viewers":false
    }
   }
  },
  {
   "cell_type":"code",
   "source":[
    "# 随堂练习：Python的简洁\n",
    "print('Hello ' + input('Your Name: ').strip().title() + '!')"
   ],
   "execution_count":15,
   "outputs":[
    {
     "name":"stdout",
     "text":[
      "Your Name:  Ding Lei\n",
      "Hello Ding Lei!\n"
     ],
     "output_type":"stream"
    }
   ],
   "metadata":{
    "datalore":{
     "node_id":"tFxKzq0CGaoFZz24X2OFGK",
     "type":"CODE",
     "hide_input_from_viewers":false,
     "hide_output_from_viewers":false
    }
   }
  },
  {
   "cell_type":"code",
   "source":[
    "dir(__builtins__)"
   ],
   "execution_count":16,
   "outputs":[
    {
     "data":{
      "text\/plain":[
       "['ArithmeticError',\n",
       " 'AssertionError',\n",
       " 'AttributeError',\n",
       " 'BaseException',\n",
       " 'BlockingIOError',\n",
       " 'BrokenPipeError',\n",
       " 'BufferError',\n",
       " 'BytesWarning',\n",
       " 'ChildProcessError',\n",
       " 'ConnectionAbortedError',\n",
       " 'ConnectionError',\n",
       " 'ConnectionRefusedError',\n",
       " 'ConnectionResetError',\n",
       " 'DeprecationWarning',\n",
       " 'EOFError',\n",
       " 'Ellipsis',\n",
       " 'EnvironmentError',\n",
       " 'Exception',\n",
       " 'False',\n",
       " 'FileExistsError',\n",
       " 'FileNotFoundError',\n",
       " 'FloatingPointError',\n",
       " 'FutureWarning',\n",
       " 'GeneratorExit',\n",
       " 'IOError',\n",
       " 'ImportError',\n",
       " 'ImportWarning',\n",
       " 'IndentationError',\n",
       " 'IndexError',\n",
       " 'InterruptedError',\n",
       " 'IsADirectoryError',\n",
       " 'KeyError',\n",
       " 'KeyboardInterrupt',\n",
       " 'LookupError',\n",
       " 'MemoryError',\n",
       " 'ModuleNotFoundError',\n",
       " 'NameError',\n",
       " 'None',\n",
       " 'NotADirectoryError',\n",
       " 'NotImplemented',\n",
       " 'NotImplementedError',\n",
       " 'OSError',\n",
       " 'OverflowError',\n",
       " 'PendingDeprecationWarning',\n",
       " 'PermissionError',\n",
       " 'ProcessLookupError',\n",
       " 'RecursionError',\n",
       " 'ReferenceError',\n",
       " 'ResourceWarning',\n",
       " 'RuntimeError',\n",
       " 'RuntimeWarning',\n",
       " 'StopAsyncIteration',\n",
       " 'StopIteration',\n",
       " 'SyntaxError',\n",
       " 'SyntaxWarning',\n",
       " 'SystemError',\n",
       " 'SystemExit',\n",
       " 'TabError',\n",
       " 'TimeoutError',\n",
       " 'True',\n",
       " 'TypeError',\n",
       " 'UnboundLocalError',\n",
       " 'UnicodeDecodeError',\n",
       " 'UnicodeEncodeError',\n",
       " 'UnicodeError',\n",
       " 'UnicodeTranslateError',\n",
       " 'UnicodeWarning',\n",
       " 'UserWarning',\n",
       " 'ValueError',\n",
       " 'Warning',\n",
       " 'ZeroDivisionError',\n",
       " '__IPYTHON__',\n",
       " '__build_class__',\n",
       " '__debug__',\n",
       " '__doc__',\n",
       " '__import__',\n",
       " '__loader__',\n",
       " '__name__',\n",
       " '__package__',\n",
       " '__spec__',\n",
       " 'abs',\n",
       " 'all',\n",
       " 'any',\n",
       " 'ascii',\n",
       " 'bin',\n",
       " 'bool',\n",
       " 'breakpoint',\n",
       " 'bytearray',\n",
       " 'bytes',\n",
       " 'callable',\n",
       " 'chr',\n",
       " 'classmethod',\n",
       " 'compile',\n",
       " 'complex',\n",
       " 'copyright',\n",
       " 'credits',\n",
       " 'delattr',\n",
       " 'dict',\n",
       " 'dir',\n",
       " 'display',\n",
       " 'divmod',\n",
       " 'enumerate',\n",
       " 'eval',\n",
       " 'exec',\n",
       " 'filter',\n",
       " 'float',\n",
       " 'format',\n",
       " 'frozenset',\n",
       " 'get_ipython',\n",
       " 'getattr',\n",
       " 'globals',\n",
       " 'hasattr',\n",
       " 'hash',\n",
       " 'help',\n",
       " 'hex',\n",
       " 'id',\n",
       " 'input',\n",
       " 'int',\n",
       " 'isinstance',\n",
       " 'issubclass',\n",
       " 'iter',\n",
       " 'len',\n",
       " 'license',\n",
       " 'list',\n",
       " 'locals',\n",
       " 'map',\n",
       " 'max',\n",
       " 'memoryview',\n",
       " 'min',\n",
       " 'next',\n",
       " 'object',\n",
       " 'oct',\n",
       " 'open',\n",
       " 'ord',\n",
       " 'pow',\n",
       " 'print',\n",
       " 'property',\n",
       " 'range',\n",
       " 'repr',\n",
       " 'reversed',\n",
       " 'round',\n",
       " 'set',\n",
       " 'setattr',\n",
       " 'slice',\n",
       " 'sorted',\n",
       " 'staticmethod',\n",
       " 'str',\n",
       " 'sum',\n",
       " 'super',\n",
       " 'tuple',\n",
       " 'type',\n",
       " 'vars',\n",
       " 'zip']"
      ]
     },
     "metadata":{
      
     },
     "output_type":"display_data"
    }
   ],
   "metadata":{
    "datalore":{
     "node_id":"juCrEqaVHHtMDCde1vS0NT",
     "type":"CODE",
     "hide_input_from_viewers":false,
     "hide_output_from_viewers":false
    }
   }
  },
  {
   "cell_type":"code",
   "source":[
    "# 9. 字节类型\n",
    "val = '中文'\n",
    "print('val: %s, %s' % (val, type(val)))  # 字符串对象\n",
    "val1 = val.encode('utf-8')\n",
    "print('val1: %s, %s' % (val1, type(val1)))  # 字节对象\n",
    "val2 = val.encode('gbk')\n",
    "print('val2: %s, %s' % (val2, type(val2)))  # 不同编码格式的字节对象\n",
    "\n",
    "type(b'abc')  # b字符串定义了一个字节对象"
   ],
   "execution_count":25,
   "outputs":[
    {
     "name":"stdout",
     "text":[
      "val: 中文, <class 'str'>\n",
      "val1: b'\\xe4\\xb8\\xad\\xe6\\x96\\x87', <class 'bytes'>\n",
      "val2: b'\\xd6\\xd0\\xce\\xc4', <class 'bytes'>\n"
     ],
     "output_type":"stream"
    },
    {
     "data":{
      "text\/plain":[
       "bytes"
      ]
     },
     "metadata":{
      
     },
     "output_type":"display_data"
    }
   ],
   "metadata":{
    "datalore":{
     "node_id":"kYHMuvarfXZMy5UaWLYbBT",
     "type":"CODE",
     "hide_input_from_viewers":false,
     "hide_output_from_viewers":false
    }
   }
  },
  {
   "cell_type":"code",
   "source":[
    "# 10. 布尔类型\n",
    "print(True and False)  # 布尔对象与逻辑运算\n",
    "print(True or False)\n",
    "print(bool(0), bool(0.1), bool(''), bool(' '))  # 数值和字符串的布尔值\n",
    "print(True == 1, False == 0)  # True等于整数1，False等于整数0，但非同一个对象\n",
    "\n",
    "# 延伸\n",
    "isinstance(True, int)  # 布尔类型是整数类型的子类"
   ],
   "execution_count":31,
   "outputs":[
    {
     "name":"stdout",
     "text":[
      "False\n",
      "True\n",
      "False True False True\n",
      "True True\n",
      "139730798646656 139730798879040\n"
     ],
     "output_type":"stream"
    }
   ],
   "metadata":{
    "datalore":{
     "node_id":"eGeELIy9diXcACz1zqYht3",
     "type":"CODE",
     "hide_input_from_viewers":false,
     "hide_output_from_viewers":false
    }
   }
  },
  {
   "cell_type":"code",
   "source":[
    "# 11. None类型\n",
    "def func(p=None):  # None作为未设定的默认值，用来判断是否被赋值\n",
    "    if p is not None:\n",
    "        return 10\n",
    "    else:\n",
    "        return 9\n",
    "    \n",
    "print(func(), func('a'))"
   ],
   "execution_count":6,
   "outputs":[
    {
     "name":"stdout",
     "text":[
      "9 10\n"
     ],
     "output_type":"stream"
    }
   ],
   "metadata":{
    "datalore":{
     "node_id":"uBPQLWvUgoaIw3OGxMqv7E",
     "type":"CODE",
     "hide_input_from_viewers":false,
     "hide_output_from_viewers":false
    }
   }
  },
  {
   "cell_type":"code",
   "source":[
    "# 12. 日期和时间\n",
    "from datetime import datetime # , date, time\n",
    "print(datetime(2021, 9, 20, 7))  # 将年月日时分秒转换为默认格式\n",
    "print(datetime.now())  # now方法获取当前时间\n",
    "print(datetime.now().strftime('%m\/%d\/%Y %H:%M'))  # strftime方法用来指定时间格式"
   ],
   "execution_count":7,
   "outputs":[
    {
     "name":"stdout",
     "text":[
      "2021-09-20 07:00:00\n",
      "2022-09-01 12:50:15.792123\n",
      "09\/01\/2022 12:50\n"
     ],
     "output_type":"stream"
    }
   ],
   "metadata":{
    "datalore":{
     "node_id":"vJHV3mrAa6qiC59h2O27sM",
     "type":"CODE",
     "hide_input_from_viewers":false,
     "hide_output_from_viewers":false
    }
   }
  },
  {
   "cell_type":"code",
   "source":[
    "# 13. 强类型\n",
    "# print('3' + 4)  # 整数类型与字符串类型不能直接相加\n",
    "print('3' + str(4))  # 整数类型强制转换为字符串类型\n",
    "print(int('3') + 4)  # 字符串类型强制转换为整数类型，转换时需满足数字\n",
    "print(type('3'), isinstance('3', int))  # instance用来判断类型\n",
    "\n",
    "# 延伸\n",
    "int('0x7f', 16)  # 进制字符串时需指定进制，否则报错，查看int??"
   ],
   "execution_count":5,
   "outputs":[
    {
     "name":"stdout",
     "text":[
      "34\n",
      "7\n",
      "<class 'str'> False\n"
     ],
     "output_type":"stream"
    },
    {
     "data":{
      "text\/plain":[
       "127"
      ]
     },
     "metadata":{
      
     },
     "output_type":"display_data"
    }
   ],
   "metadata":{
    "datalore":{
     "node_id":"8ZX83FrmOzJ4ZISPIWtfoJ",
     "type":"CODE",
     "hide_input_from_viewers":false,
     "hide_output_from_viewers":false
    }
   }
  },
  {
   "cell_type":"markdown",
   "source":[
    "# 1.2 控制流"
   ],
   "attachments":{
    
   },
   "metadata":{
    "datalore":{
     "node_id":"rma4j8ZHM0lfdYUKoNBLaa",
     "type":"MD",
     "hide_input_from_viewers":false,
     "hide_output_from_viewers":false
    }
   }
  },
  {
   "cell_type":"code",
   "source":[
    "# 14. if条件语句\n",
    "def func(p):\n",
    "    if not isinstance(p, int):  # 判断类型\n",
    "        return 'not int'\n",
    "    if 3 < p < 20:  # 链式比较，等价于 p > 3 and p < 20:\n",
    "        return 'in the range'\n",
    "    elif p in [3, 20]:  # in运算符\n",
    "        return 'on the border'\n",
    "    else:\n",
    "        return 'out the range'\n",
    "print(func(3))"
   ],
   "execution_count":9,
   "outputs":[
    {
     "name":"stdout",
     "text":[
      "on the border\n"
     ],
     "output_type":"stream"
    }
   ],
   "metadata":{
    "datalore":{
     "node_id":"Qyuznu0iwP0rpQX7VNTOSc",
     "type":"CODE",
     "hide_input_from_viewers":false,
     "hide_output_from_viewers":false
    }
   }
  },
  {
   "cell_type":"code",
   "source":[
    "# 15. for循环语句：遍历可迭代对象\n",
    "for i in 'Python':\n",
    "    print(i)  # 逐个访问字符串中的元素\n",
    " \n",
    "for i in ['Python', 'C++', 'Java', 'C#']:\n",
    "    print(i[:2])  # 逐个访问列表中的元素并切片\n",
    "    if 'J' in i or i.lower() == 'java':  # 设置break退出条件\n",
    "        break\n",
    "else:  # break将跳过else语句\n",
    "    print('Done')"
   ],
   "execution_count":10,
   "outputs":[
    {
     "name":"stdout",
     "text":[
      "P\n",
      "y\n",
      "t\n",
      "h\n",
      "o\n",
      "n\n",
      "Py\n",
      "C+\n",
      "Ja\n"
     ],
     "output_type":"stream"
    }
   ],
   "metadata":{
    "datalore":{
     "node_id":"F7nA2xglKbHUA9zorm417e",
     "type":"CODE",
     "hide_input_from_viewers":false,
     "hide_output_from_viewers":false
    }
   }
  },
  {
   "cell_type":"code",
   "source":[
    "# 16. for循环语句：range对象\n",
    "s = ''\n",
    "for i in range(0, 20, 2):\n",
    "    s += ', ' + str(i)  # str(list(range(0, 20, 2)))[1:-1]\n",
    "print(s)\n",
    "\n",
    "lang = ['Python', 'C++', 'Java', 'C#']\n",
    "for i in range(len(lang)):  # 遍历索引\n",
    "    print(lang[i])"
   ],
   "execution_count":10,
   "outputs":[
    {
     "name":"stdout",
     "text":[
      ", 0, 2, 4, 6, 8, 10, 12, 14, 16, 18\n",
      "Python\n",
      "C++\n",
      "Java\n",
      "C#\n"
     ],
     "output_type":"stream"
    }
   ],
   "metadata":{
    "datalore":{
     "node_id":"pmDiFmDMOiQpDr2oLPhXU8",
     "type":"CODE",
     "hide_input_from_viewers":false,
     "hide_output_from_viewers":false
    }
   }
  },
  {
   "cell_type":"code",
   "source":[
    "# 17. while循环语句\n",
    "x = 256\n",
    "total = 0\n",
    "while x > 0:\n",
    "    if total > 500:\n",
    "        break\n",
    "    total += x\n",
    "    x = x \/\/ 2\n",
    "print(total)"
   ],
   "execution_count":12,
   "outputs":[
    {
     "name":"stdout",
     "text":[
      "504\n"
     ],
     "output_type":"stream"
    }
   ],
   "metadata":{
    "datalore":{
     "node_id":"FsbMxrlvbOSX2AEOFPtzax",
     "type":"CODE",
     "hide_input_from_viewers":false,
     "hide_output_from_viewers":false
    }
   }
  },
  {
   "cell_type":"code",
   "source":[
    "# 18. 三元表达式\n",
    "def func(n):\n",
    "    return 'hello' if n > 10 else 'world'\n",
    "print(func(9))"
   ],
   "execution_count":13,
   "outputs":[
    {
     "name":"stdout",
     "text":[
      "world\n"
     ],
     "output_type":"stream"
    }
   ],
   "metadata":{
    "datalore":{
     "node_id":"bQBucaj1nCnAJE8sAsXtse",
     "type":"CODE",
     "hide_input_from_viewers":false,
     "hide_output_from_viewers":false
    }
   }
  },
  {
   "cell_type":"code",
   "source":[
    "# 19. range类型\n",
    "print(list(range(10)))  # 0 .. j-1\n",
    "print(list(range(1, 11)))  # i .. j-1\n",
    "print(list(range(0, 30, 5)))  # i, i+k, .., <j\n",
    "print(list(range(0, 10, 3)))\n",
    "print(list(range(0, -10, -1)))  # step为负数\n",
    "print(list(range(0)))  # 不满足限制条件时为空\n",
    "print(list(range(1, 0)))"
   ],
   "execution_count":null,
   "outputs":[
    
   ],
   "metadata":{
    "datalore":{
     "node_id":"60UgpYgz9JYE6FdpDXZE1b",
     "type":"CODE",
     "hide_input_from_viewers":false,
     "hide_output_from_viewers":false
    }
   }
  },
  {
   "cell_type":"markdown",
   "source":[
    "# 1.3 容器"
   ],
   "attachments":{
    
   },
   "metadata":{
    "datalore":{
     "node_id":"Z1he45OOfiERz8a0Qb2272",
     "type":"MD",
     "hide_input_from_viewers":false,
     "hide_output_from_viewers":false
    }
   }
  },
  {
   "cell_type":"code",
   "source":[
    "# 20. 元组与列表\n",
    "t = ('a', 'b', 1)\n",
    "t1 = 'a', 'b', 1  # 省略圆括号\n",
    "t2 = (4,)  # 只有一个元素的元组\n",
    "t3 = 4,  # 省略圆括号\n",
    "t4 = ()  # 空元组\n",
    "\n",
    "l = [3, 'a', 4]\n",
    "l1 = []  # 空列表\n",
    "l2 = [2, (3, 4, ('Hello',)), t1, 'a', ['b']]  # 任意类型的元素\n",
    "print(l2[1][2][0][:2])\n",
    "t, t1, t2, t3, t4, l, l1, l2  # 逗号形成的元组"
   ],
   "execution_count":4,
   "outputs":[
    {
     "name":"stdout",
     "text":[
      "He\n"
     ],
     "output_type":"stream"
    },
    {
     "data":{
      "text\/plain":[
       "(('a', 'b', 1),\n",
       " ('a', 'b', 1),\n",
       " (4,),\n",
       " (4,),\n",
       " (),\n",
       " [3, 'a', 4],\n",
       " [],\n",
       " [2, (3, 4, ('Hello',)), ('a', 'b', 1), 'a', ['b']])"
      ]
     },
     "metadata":{
      
     },
     "output_type":"display_data"
    }
   ],
   "metadata":{
    "datalore":{
     "node_id":"gWzGWgfy52L1hI0eaFd530",
     "type":"CODE",
     "hide_input_from_viewers":false,
     "hide_output_from_viewers":false
    }
   }
  },
  {
   "cell_type":"code",
   "source":[
    "# 21. 序列对象的一般操作\n",
    "t = ['a', 'b', 'hello', 'x', 'hello', 3]\n",
    "#t = ('a', 'b', 'hello', 'x', 'hello', 3)\n",
    "\n",
    "print('c' in t, 4 not in t)  # in运算符\n",
    "print(t + ['c', 4])  # 加法，类型必须相同（强类型），创建新的对象\n",
    "print(3 * t)  # 数乘\n",
    "print(t[0])  # 索引\n",
    "print(t[:2])  # 切片\n",
    "print(len(t))  # 求长度\n",
    "print(min(t[:-1]), max(t[:-1]))  # min和max需要序列中的项支持比较\n",
    "print(t.index('hello'))  # 项第一次出现的位置\n",
    "print(t.count('hello'))"
   ],
   "execution_count":17,
   "outputs":[
    {
     "name":"stdout",
     "text":[
      "False True\n",
      "['a', 'b', 'hello', 'x', 'hello', 3, 'c', 4]\n",
      "['a', 'b', 'hello', 'x', 'hello', 3, 'a', 'b', 'hello', 'x', 'hello', 3, 'a', 'b', 'hello', 'x', 'hello', 3]\n",
      "a\n",
      "['a', 'b']\n",
      "6\n",
      "a x\n",
      "2\n",
      "2\n"
     ],
     "output_type":"stream"
    }
   ],
   "metadata":{
    "datalore":{
     "node_id":"QTjdtDpruilAZA5wKqnoET",
     "type":"CODE",
     "hide_input_from_viewers":false,
     "hide_output_from_viewers":false
    }
   }
  },
  {
   "cell_type":"code",
   "source":[
    "# 22. 切片\n",
    "t = (0, 1, 2, 3, 4, 5, 6, 7, 8)\n",
    "\n",
    "# [i:j:k]，包含i，不包含j，切片的类型与原序列相同\n",
    "print(t[3:6])\n",
    "print(t[:6])  # 省略i时，i=0\n",
    "print(t[3:100], t[3:])  # 省略j，或j超出总长度时，j=len(t)\n",
    "print(t[:])  # 所有项的切片\n",
    "print(t[-5:-1])  # 负索引表示从尾部开始\n",
    "print(t[6:3])  # i>=j时切片为空\n",
    "print(t[:-2:3])  # 指定k\n",
    "\n",
    "# 特殊切片\n",
    "print(t[::2])  # 奇数位\n",
    "print(t[1::2])  # 偶数位\n",
    "print(t[::-1])  # 逆序\n",
    "\n",
    "# 延伸：slice对象\n",
    "p = slice(3, 6, 1)  # range对象不作为索引\n",
    "print(t[p])"
   ],
   "execution_count":30,
   "outputs":[
    {
     "name":"stdout",
     "text":[
      "(3, 4, 5)\n",
      "(0, 1, 2, 3, 4, 5)\n",
      "(3, 4, 5, 6, 7, 8) (3, 4, 5, 6, 7, 8)\n",
      "(0, 1, 2, 3, 4, 5, 6, 7, 8)\n",
      "(4, 5, 6, 7)\n",
      "()\n",
      "(0, 3, 6)\n",
      "(0, 2, 4, 6, 8)\n",
      "(1, 3, 5, 7)\n",
      "(8, 7, 6, 5, 4, 3, 2, 1, 0)\n",
      "(3, 4, 5)\n"
     ],
     "output_type":"stream"
    }
   ],
   "metadata":{
    "datalore":{
     "node_id":"YBFg4IroZP9TfOjAfa9ivx",
     "type":"CODE",
     "hide_input_from_viewers":false,
     "hide_output_from_viewers":false
    }
   }
  },
  {
   "cell_type":"code",
   "source":[
    "# 23. 可变序列的一般操作\n",
    "l = [1, 2, ('a', 'b', 'c'), 'hello', list('world')]\n",
    "print(l)\n",
    "\n",
    "l[2] = 345  # 按索引改变值\n",
    "print(l)\n",
    "\n",
    "l[-1][:3] = 0,  # 按连续切片改变值，新值必须为容器对象（如不能为int），新值类型可以与切片类型不同\n",
    "print(l)\n",
    "\n",
    "l[::2] = 'xyz'  # 按不连续切片改变值，赋值的长度必须一致（如不能为'xy'）\n",
    "print(l)\n",
    "\n",
    "del l[:3]  # 按索引\/切片删除值，切片可以不连续\n",
    "print(l)\n",
    "\n",
    "l.append(1)  # 在序列末尾添加新的项，等价于 l[len(l):len(l)] = 1,（不能时l[len(l)]索引不存在）\n",
    "print(l)\n",
    "\n",
    "l.extend((3, 'x', 'yz'))  # 在序列末尾扩展新的序列，可以与原序列类型不同\n",
    "print(l)\n",
    "\n",
    "l += range(10, 13)  # 增强赋值，可以与原序列类型不同\n",
    "l += 'jqr'\n",
    "print(l)\n",
    "\n",
    "l *= 2  # 数乘运算\n",
    "print(l)\n",
    "\n",
    "l.insert(0, 99)  # 在指定索引位置插入值，等价于 l[0:0] = 99, （这种写法较怪）\n",
    "print(l)\n",
    "\n",
    "s = l.pop(1)  # 删除并返回指定索引项\n",
    "print('s=' + s)  # 这个方法有返回值\n",
    "print(l)\n",
    "\n",
    "l.remove(1)  # 删除第一个值为1的项（按值删除），若删除所有值为1的项，可用推导式（无对应方法）\n",
    "print(l)\n",
    "\n",
    "l.reverse()  # 逆序，l[::-1]将得到一个新的对象，reversed(l)将得到一个reversed对象\n",
    "print(l)\n",
    "\n",
    "l.clear()  # 清空\n",
    "print(l)"
   ],
   "execution_count":22,
   "outputs":[
    {
     "name":"stdout",
     "text":[
      "[1, 2, ('a', 'b', 'c'), 'hello', ['w', 'o', 'r', 'l', 'd']]\n",
      "[1, 2, 345, 'hello', ['w', 'o', 'r', 'l', 'd']]\n",
      "[1, 2, 345, 'hello', [0, 'l', 'd']]\n",
      "['x', 2, 'y', 'hello', 'z']\n",
      "['hello', 'z']\n",
      "['hello', 'z', 1]\n",
      "['hello', 'z', 1, 3, 'x', 'yz']\n",
      "['hello', 'z', 1, 3, 'x', 'yz', 10, 11, 12, 'j', 'q', 'r']\n",
      "['hello', 'z', 1, 3, 'x', 'yz', 10, 11, 12, 'j', 'q', 'r', 'hello', 'z', 1, 3, 'x', 'yz', 10, 11, 12, 'j', 'q', 'r']\n",
      "[99, 'hello', 'z', 1, 3, 'x', 'yz', 10, 11, 12, 'j', 'q', 'r', 'hello', 'z', 1, 3, 'x', 'yz', 10, 11, 12, 'j', 'q', 'r']\n",
      "s=hello\n",
      "[99, 'z', 1, 3, 'x', 'yz', 10, 11, 12, 'j', 'q', 'r', 'hello', 'z', 1, 3, 'x', 'yz', 10, 11, 12, 'j', 'q', 'r']\n",
      "[99, 'z', 3, 'x', 'yz', 10, 11, 12, 'j', 'q', 'r', 'hello', 'z', 1, 3, 'x', 'yz', 10, 11, 12, 'j', 'q', 'r']\n",
      "['r', 'q', 'j', 12, 11, 10, 'yz', 'x', 3, 1, 'z', 'hello', 'r', 'q', 'j', 12, 11, 10, 'yz', 'x', 3, 'z', 99]\n"
     ],
     "output_type":"stream"
    },
    {
     "data":{
      "text\/plain":[
       "<list_reverseiterator at 0x7f441855c880>"
      ]
     },
     "metadata":{
      
     },
     "output_type":"display_data"
    }
   ],
   "metadata":{
    "datalore":{
     "node_id":"4D5bg0WWiD8HojZCmNGUYd",
     "type":"CODE",
     "hide_input_from_viewers":false,
     "hide_output_from_viewers":false
    }
   }
  },
  {
   "cell_type":"code",
   "source":[
    "# 延伸，不可变序列也支持 +、+=、和 *= 运算符\n",
    "s = 'abc'\n",
    "print(s + 'de')  # 强类型，要求类型相同\n",
    "\n",
    "s += '123'  # 要求类型相同\n",
    "print(s)\n",
    "\n",
    "s *= 2\n",
    "print(s)"
   ],
   "execution_count":4,
   "outputs":[
    {
     "name":"stdout",
     "text":[
      "abcde\n",
      "abc123\n",
      "abc123abc123\n"
     ],
     "output_type":"stream"
    }
   ],
   "metadata":{
    "datalore":{
     "node_id":"SI2LHmuxnG60EuFURb5bkl",
     "type":"CODE",
     "hide_input_from_viewers":false,
     "hide_output_from_viewers":false
    }
   }
  },
  {
   "cell_type":"code",
   "source":[
    "# 延伸：注意的地方\n",
    "print([1, 2, 3].append(4))  # 无返回值\n",
    "\n",
    "# [1, 2, 3] += [4]  # 不能对字面值赋值，又如 3 = 'Hello'"
   ],
   "execution_count":2,
   "outputs":[
    {
     "name":"stdout",
     "text":[
      "None\n"
     ],
     "output_type":"stream"
    }
   ],
   "metadata":{
    "datalore":{
     "node_id":"mAZy7hYP9gYWRz9vYaSmZD",
     "type":"CODE",
     "hide_input_from_viewers":false,
     "hide_output_from_viewers":false
    }
   }
  },
  {
   "cell_type":"code",
   "source":[
    "# 24. 列表的sort操作"
   ],
   "execution_count":null,
   "outputs":[
    
   ],
   "metadata":{
    "datalore":{
     "node_id":"UIVEDmdBYnNZDq8iMcRmSd",
     "type":"CODE",
     "hide_input_from_viewers":false,
     "hide_output_from_viewers":false
    }
   }
  }
 ],
 "metadata":{
  "kernelspec":{
   "display_name":"Python",
   "language":"python",
   "name":"python"
  },
  "datalore":{
   "version":1,
   "computation_mode":"JUPYTER",
   "package_manager":"pip",
   "base_environment":"default",
   "packages":[
    
   ]
  }
 },
 "nbformat":4,
 "nbformat_minor":4
}