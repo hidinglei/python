{
 "cells": [
  {
   "cell_type": "code",
   "execution_count": null,
   "metadata": {},
   "outputs": [],
   "source": [
    "import numpy as np"
   ]
  },
  {
   "cell_type": "code",
   "execution_count": null,
   "metadata": {},
   "outputs": [],
   "source": [
    "# 1. ndarray与list计算时间比较\n",
    "my_arr = np.arange(1000000)\n",
    "my_list = list(range(1000000))\n",
    "%time for _ in range(10): my_arr2 = my_arr * 2\n",
    "%time for _ in range(10): my_list2 = [x * 2 for x in my_list]"
   ]
  },
  {
   "cell_type": "code",
   "execution_count": null,
   "metadata": {},
   "outputs": [],
   "source": [
    "# 2. 认识ndarray\n",
    "data = np.random.randn(2, 3)\n",
    "print(type(data))\n",
    "print(data.ndim)\n",
    "print(data.shape)\n",
    "print(data.size)\n",
    "print(data.dtype)\n",
    "print(data.itemsize)\n",
    "data"
   ]
  },
  {
   "cell_type": "code",
   "execution_count": null,
   "metadata": {},
   "outputs": [],
   "source": [
    "# 3. array函数\n",
    "data1 = np.array([1, 2, 3])\n",
    "data2 = np.array([[1, 2, 3], [4, 5, 6]])\n",
    "data3 = np.array([[1, 2, 3], [4, 5]])\n",
    "data4 = np.array([[1, 2, 3], [4, 5, 6]], dtype='float32')\n",
    "# data4 = np.array([[1, 2, 3], [4, 5, 6]], dtype=float)\n",
    "print(data1)\n",
    "print(data2, data2.dtype)\n",
    "print(data3)\n",
    "print(data4, data4.dtype.name)"
   ]
  },
  {
   "cell_type": "code",
   "execution_count": null,
   "metadata": {
    "scrolled": true
   },
   "outputs": [],
   "source": [
    "# 4. 其他生成数组的方法1\n",
    "print(np.zeros((3, 4)))\n",
    "print(np.ones((3, 4, 5)))\n",
    "print(np.empty((3, 4)))\n",
    "print(np.arange(1, 20, 5))"
   ]
  },
  {
   "cell_type": "code",
   "execution_count": null,
   "metadata": {},
   "outputs": [],
   "source": [
    "# 5. asarray与array\n",
    "x = [1, 2, 3]\n",
    "a = np.array(x)\n",
    "b = np.array(a)\n",
    "c = np.asarray(a)\n",
    "d = np.asarray(x)\n",
    "print(id(x), id(a), id(b), id(c), id(d))"
   ]
  },
  {
   "cell_type": "code",
   "execution_count": null,
   "metadata": {},
   "outputs": [],
   "source": [
    "# 6. 其他生成数组的方法2\n",
    "x = np.array([[1, 2, 3], [4, 5, 6]])\n",
    "print(np.ones_like(x))\n",
    "print(np.zeros_like(x))\n",
    "print(np.empty_like(x))\n",
    "print(np.full((3, 2), 9))\n",
    "print(np.full_like(x, 9))\n",
    "print(np.eye(4))\n",
    "print(np.identity(4))"
   ]
  },
  {
   "cell_type": "code",
   "execution_count": null,
   "metadata": {},
   "outputs": [],
   "source": [
    "# 7. 数据类型转换\n",
    "data = np.array([[1, 2, 3], [4, 5, 6.6]])\n",
    "data1 = data.astype(int)\n",
    "# data1 = data.astype(np.float64)\n",
    "data1"
   ]
  },
  {
   "cell_type": "code",
   "execution_count": null,
   "metadata": {},
   "outputs": [],
   "source": [
    "# 8. 数组算术\n",
    "data1 = np.array([[1, 2, 3], [4, 5, 6]])\n",
    "data2 = np.array([[7, 8, 9], [10, 11, 12]])\n",
    "print(data1 + data2)\n",
    "print(data1 - data2)\n",
    "print(data1 * data2)\n",
    "print(data1 / data2)\n",
    "print(data1 > data2)\n",
    "print(1 / data1)\n",
    "print(data1 ** 0.5)"
   ]
  },
  {
   "cell_type": "code",
   "execution_count": null,
   "metadata": {},
   "outputs": [],
   "source": [
    "# 9. 一维数组的索引与切片\n",
    "arr = np.arange(10)\n",
    "print(arr)\n",
    "arr_slice = arr[1:7:2]\n",
    "print(arr_slice)\n",
    "arr_slice[0] = 999\n",
    "print(arr)\n",
    "arr_slice[:] = 888\n",
    "print(arr)"
   ]
  },
  {
   "cell_type": "code",
   "execution_count": null,
   "metadata": {},
   "outputs": [],
   "source": [
    "# 10. 拷贝与视图\n",
    "a = np.arange(12)\n",
    "b = a  # 完全不拷贝\n",
    "print(b is a)  # True\n",
    "\n",
    "c = a.view()  # 视图（浅拷贝）\n",
    "print(c is a)  # False\n",
    "print(c.base is a)  # True\n",
    "c[4] = 999\n",
    "print(a)\n",
    "\n",
    "s = a[1:6]  # 切片是一种视图\n",
    "s[:] = 888\n",
    "print(a)\n",
    "\n",
    "d = a.copy()  # 深拷贝\n",
    "print(d is a)  # False\n",
    "print(d.base is a)  # False\n",
    "d[4] = 777\n",
    "print(a)"
   ]
  },
  {
   "cell_type": "code",
   "execution_count": null,
   "metadata": {},
   "outputs": [],
   "source": [
    "# 11. 二维数组的索引与切片\n",
    "arr2d = np.array([[1, 2, 3], [4, 5, 6], [7, 8, 9]])\n",
    "print(arr2d)\n",
    "print(arr2d[0][2], arr2d[0, 2])\n",
    "print(arr2d[::2, ::-1])\n",
    "print(arr2d[2], arr2d[:, 2], arr2d[:, 2:])\n",
    "arr2d[:,2] = 44\n",
    "print(arr2d)"
   ]
  },
  {
   "cell_type": "code",
   "execution_count": null,
   "metadata": {},
   "outputs": [],
   "source": [
    "# 12. 更高维数组的索引与切片\n",
    "arr3d = np.array([[[1, 2, 3], [4, 5, 6]], [[7, 8, 9], [10, 11, 12]]])\n",
    "print('arr3d =', arr3d)\n",
    "print('\\narr3d[0] = ', arr3d[0])\n",
    "arr3d[0] = 42\n",
    "# arr3d[0] = np.array([42, 43])  # ValueError\n",
    "# arr3d[0] = np.array([42, 43, 44])\n",
    "print('\\narr3d =', arr3d)\n",
    "print('\\narr3d[1, 0] = ', arr3d[1, 0])"
   ]
  },
  {
   "cell_type": "code",
   "execution_count": null,
   "metadata": {},
   "outputs": [],
   "source": [
    "# 13. 布尔索引\n",
    "names = np.array(['Bob', 'Joe', 'Will', 'Bob', 'Will', 'Joe', 'Joe'])\n",
    "data = np.random.randn(7, 4)\n",
    "print(data)\n",
    "print('\\n', names == 'Bob')\n",
    "print('\\n', data[names == 'Bob'])\n",
    "print('\\n', data[(names == 'Bob') | (names == 'Will')])\n",
    "data[data < 0] = 0\n",
    "print('\\n', data)"
   ]
  },
  {
   "cell_type": "code",
   "execution_count": null,
   "metadata": {},
   "outputs": [],
   "source": [
    "# 14. 神奇索引\n",
    "arr = np.empty((8, 4))\n",
    "arr = np.arange(4)\n",
    "arr = arr + np.arange(8).reshape(8, 1) * 10\n",
    "# arr = np.tile(np.arange(4), (8, 1)) + np.tile(np.arange(8) * 10, (4, 1)).T\n",
    "\n",
    "print(arr)\n",
    "print('\\n', arr[[4, 3, 0, 6]])\n",
    "print('\\n', arr[[-3, 5, -7]])\n",
    "print('\\n', arr[[1, 5, 7, 2], [2, 3, 2, 2]])\n",
    "\n",
    "arr[5:1:-1, [2, 2]]"
   ]
  },
  {
   "cell_type": "code",
   "execution_count": null,
   "metadata": {},
   "outputs": [],
   "source": [
    "# 15. 二维数组的转置\n",
    "arr = np.arange(15).reshape(3, -1)\n",
    "print(arr, arr.shape)\n",
    "# print('\\n', arr.transpose())\n",
    "print('\\n', arr.T, arr.T.shape)\n",
    "print('\\n', np.dot(arr.T, arr))"
   ]
  },
  {
   "cell_type": "code",
   "execution_count": null,
   "metadata": {
    "scrolled": true
   },
   "outputs": [],
   "source": [
    "# 16. 高维数组的转置和换轴\n",
    "arr = np.arange(16).reshape((2, 2, 4))\n",
    "print(arr, arr.shape)\n",
    "print('\\n', arr.transpose(1, 0 ,2))\n",
    "print('\\n', arr.swapaxes(1, 2))\n",
    "print('\\n', arr.T, arr.T.shape)"
   ]
  },
  {
   "cell_type": "code",
   "execution_count": null,
   "metadata": {},
   "outputs": [],
   "source": [
    "# 17. 通用函数\n",
    "x = np.array([12, 9, 13, 15])\n",
    "y = np.array([11, 10, 4, 8])\n",
    "print(np.sqrt(x))\n",
    "print(np.modf(np.sqrt(x)))\n",
    "print(np.square(x))\n",
    "print(np.add(x, y))\n",
    "print(np.multiply(x, y))\n",
    "print(np.maximum(x, y))\n",
    "print(np.greater(x, y))\n",
    "print(x > y)\n",
    "\n",
    "z = np.empty((2, 4))\n",
    "print(np.square(x, out=z))"
   ]
  },
  {
   "cell_type": "code",
   "execution_count": null,
   "metadata": {},
   "outputs": [],
   "source": [
    "# 18. 将条件逻辑转为数组运算：where\n",
    "arr_x = np.array([1, 5, 7])\n",
    "arr_y = np.array([2, 6, 8])\n",
    "arr_con = np.array([True, False, True])\n",
    "print(np.where(arr_con, arr_x, arr_y))\n",
    "# print([(x if c else y) for x, y, c in zip(arr_x, arr_y, arr_con)])\n",
    "\n",
    "arr = np.random.randn(4, 4)\n",
    "print('\\n', arr)\n",
    "print('\\n', np.where(arr > 0 , 2, arr))"
   ]
  },
  {
   "cell_type": "code",
   "execution_count": null,
   "metadata": {},
   "outputs": [],
   "source": [
    "# 19. 数组统计运算\n",
    "arr = np.random.randn(5, 4)\n",
    "print(arr)\n",
    "print('\\n', arr.mean(), np.mean(arr), arr.sum())\n",
    "print('\\n', arr.mean(1))\n",
    "print('\\n', arr.sum(0))\n",
    "\n",
    "brr = np.arange(9).reshape(3, -1)\n",
    "print('\\n', brr)\n",
    "print('\\n', brr.cumsum(axis=0))\n",
    "print('\\n', brr.cumprod(1))"
   ]
  },
  {
   "cell_type": "code",
   "execution_count": null,
   "metadata": {},
   "outputs": [],
   "source": [
    "# 20. 检索数组元素\n",
    "arr = np.random.rand(100)\n",
    "print((arr > .5).sum())\n",
    "\n",
    "brr = np.array([[1, -2, -7], [-3, 6, 2], [-4, 3, 2]])\n",
    "print(np.any(brr > 0))\n",
    "print(np.all(brr > 0))"
   ]
  },
  {
   "cell_type": "code",
   "execution_count": null,
   "metadata": {},
   "outputs": [],
   "source": [
    "# 21. 数组排序\n",
    "arr = np.random.randn(5, 3)\n",
    "print(arr)\n",
    "arr.sort()\n",
    "print('\\n', arr)\n",
    "\n",
    "brr = np.random.randn(5, 3)\n",
    "print('\\n', brr)\n",
    "print('\\n', np.sort(brr, 0))"
   ]
  },
  {
   "cell_type": "code",
   "execution_count": null,
   "metadata": {},
   "outputs": [],
   "source": [
    "# 22. 集合逻辑\n",
    "names = np.array(['Bob', 'Joe', 'Will', 'Bob', 'Will', 'Joe', 'Joe'])\n",
    "print(np.unique(names))\n",
    "\n",
    "values = np.array([6, 0, 0, 3, 2, 5, 6])\n",
    "print(np.in1d(values, [2, 3, 6]))"
   ]
  },
  {
   "cell_type": "code",
   "execution_count": null,
   "metadata": {},
   "outputs": [],
   "source": [
    "# 23. 线性代数运算\n",
    "a = np.array([[1, 2, 3], [4, 5, 6], [7, 8, 9]])\n",
    "print(a * a)\n",
    "print('\\n', np.multiply(a, a))\n",
    "print('\\n', np.dot(a, a))\n",
    "print('\\n', a.dot(a))\n",
    "print('\\n', np.inner(a, a))\n",
    "print('\\n', np.inner(a, a.T))\n",
    "print('\\n', np.outer(a, a))\n",
    "\n",
    "print('\\n', np.diag(a))\n",
    "print('\\n', np.diag(np.diag(a)))\n",
    "print('\\n', np.linalg.det(a))"
   ]
  },
  {
   "cell_type": "code",
   "execution_count": null,
   "metadata": {},
   "outputs": [],
   "source": [
    "# 24. 随机数\n",
    "a = np.arange(50, 60)\n",
    "print(np.random.permutation(a))\n",
    "print(np.random.permutation(10))\n",
    "np.random.shuffle(a)\n",
    "print(a)\n",
    "\n",
    "print('\\n', np.random.rand(4, 3))\n",
    "print('\\n', np.random.randint(10, 120, size=(4, 3)))\n",
    "print('\\n', np.random.randint([10, 100], 120))\n",
    "print('\\n', np.random.randn(4, 3))\n",
    "print('\\n', np.random.uniform(10, 15, size=(4, 3)))"
   ]
  },
  {
   "cell_type": "code",
   "execution_count": null,
   "metadata": {},
   "outputs": [],
   "source": [
    "# 25. 随机漫步1：原生Python方法\n",
    "import random\n",
    "position = 0\n",
    "walk = [position]\n",
    "steps = 1000\n",
    "for i in range(steps):\n",
    "    step = 1 if random.randint(0, 1) else -1\n",
    "    position += step\n",
    "    walk.append(position)\n",
    "print(walk)"
   ]
  },
  {
   "cell_type": "code",
   "execution_count": null,
   "metadata": {},
   "outputs": [],
   "source": [
    "# 26. 随机漫步2：numpy\n",
    "nsteps = 1000\n",
    "draws = np.random.randint(0, 2, size=nsteps)\n",
    "steps = np.where(draws > 0, 1, -1)\n",
    "walk = steps.cumsum()\n",
    "print(walk)"
   ]
  },
  {
   "cell_type": "code",
   "execution_count": null,
   "metadata": {},
   "outputs": [],
   "source": [
    "# 27. 随机漫步3: 统计\n",
    "print(walk.min(), walk.max())\n",
    "(np.abs(walk) >= 30).argmax()"
   ]
  },
  {
   "cell_type": "code",
   "execution_count": null,
   "metadata": {},
   "outputs": [],
   "source": [
    "# 28. 随机漫步4: 多次模拟\n",
    "nwalks = 5000\n",
    "nsteps = 1000\n",
    "draws = np.random.randint(0, 2, size=(nwalks, nsteps))\n",
    "steps = np.where(draws > 0, 1, -1)\n",
    "walks = steps.cumsum(axis=1)\n",
    "print(walks)"
   ]
  },
  {
   "cell_type": "code",
   "execution_count": null,
   "metadata": {},
   "outputs": [],
   "source": [
    "# 29. 随机漫步5:多次模拟的统计\n",
    "print(walks.max(), walks.min())\n",
    "print((np.abs(walks) >= 30).any(axis=1).sum())\n",
    "print((np.abs(walks) >= 30).argmax(axis=1).mean())"
   ]
  }
 ],
 "metadata": {
  "kernelspec": {
   "display_name": "Python 3",
   "language": "python",
   "name": "python3"
  },
  "language_info": {
   "codemirror_mode": {
    "name": "ipython",
    "version": 3
   },
   "file_extension": ".py",
   "mimetype": "text/x-python",
   "name": "python",
   "nbconvert_exporter": "python",
   "pygments_lexer": "ipython3",
   "version": "3.8.11"
  }
 },
 "nbformat": 4,
 "nbformat_minor": 4
}
